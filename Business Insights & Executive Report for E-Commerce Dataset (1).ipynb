{
 "cells": [
  {
   "cell_type": "markdown",
   "id": "e78e06dc-32e0-49c6-b16c-12d0eb587277",
   "metadata": {
    "jp-MarkdownHeadingCollapsed": true
   },
   "source": [
    "## Import Libararies"
   ]
  },
  {
   "cell_type": "code",
   "execution_count": 152,
   "id": "04aa6d8e-6d68-4a42-94ee-fe0aec0f30e9",
   "metadata": {},
   "outputs": [],
   "source": [
    "from pathlib import Path\n",
    "import pandas as pd\n",
    "import numpy as np\n",
    "import matplotlib.pyplot as plt\n",
    "import seaborn as sns\n",
    "import sys\n",
    "sns.set_style(\"whitegrid\")\n",
    "\n"
   ]
  },
  {
   "cell_type": "markdown",
   "id": "326316b7-9886-40b3-a662-87a5707c6585",
   "metadata": {
    "jp-MarkdownHeadingCollapsed": true
   },
   "source": [
    "## Import files"
   ]
  },
  {
   "cell_type": "code",
   "execution_count": 10,
   "id": "fef98ea5-6ddc-4dd6-85eb-d9c2ae4fc515",
   "metadata": {},
   "outputs": [],
   "source": [
    "folder_path = \"Task 4 Elevvo Business Insights & Executive Report for E-Commerce Dataset\""
   ]
  },
  {
   "cell_type": "code",
   "execution_count": 11,
   "id": "24500ff7-f7da-450a-bf90-4520d319cd8f",
   "metadata": {},
   "outputs": [],
   "source": [
    "orders = pd.read_csv(os.path.join(folder_path, \"olist_orders_dataset.csv\"))\n",
    "customers = pd.read_csv(os.path.join(folder_path, \"olist_customers_dataset.csv\"))\n",
    "products = pd.read_csv(os.path.join(folder_path, \"olist_products_dataset.csv\"))\n",
    "order_items = pd.read_csv(os.path.join(folder_path, \"olist_order_items_dataset.csv\"))\n",
    "payments = pd.read_csv(os.path.join(folder_path, \"olist_order_payments_dataset.csv\"))\n",
    "reviews = pd.read_csv(os.path.join(folder_path, \"olist_order_reviews_dataset.csv\"))\n",
    "sellers = pd.read_csv(os.path.join(folder_path, \"olist_sellers_dataset.csv\"))\n",
    "geolocation = pd.read_csv(os.path.join(folder_path, \"olist_geolocation_dataset.csv\"))\n",
    "product_categories = pd.read_csv(os.path.join(folder_path, \"product_category_name_translation.csv\"))"
   ]
  },
  {
   "cell_type": "code",
   "execution_count": 12,
   "id": "ac4d747d-863b-4752-9195-68353578720a",
   "metadata": {
    "scrolled": true
   },
   "outputs": [
    {
     "name": "stdout",
     "output_type": "stream",
     "text": [
      "--- Orders ---\n"
     ]
    },
    {
     "data": {
      "text/html": [
       "<div>\n",
       "<style scoped>\n",
       "    .dataframe tbody tr th:only-of-type {\n",
       "        vertical-align: middle;\n",
       "    }\n",
       "\n",
       "    .dataframe tbody tr th {\n",
       "        vertical-align: top;\n",
       "    }\n",
       "\n",
       "    .dataframe thead th {\n",
       "        text-align: right;\n",
       "    }\n",
       "</style>\n",
       "<table border=\"1\" class=\"dataframe\">\n",
       "  <thead>\n",
       "    <tr style=\"text-align: right;\">\n",
       "      <th></th>\n",
       "      <th>order_id</th>\n",
       "      <th>customer_id</th>\n",
       "      <th>order_status</th>\n",
       "      <th>order_purchase_timestamp</th>\n",
       "      <th>order_approved_at</th>\n",
       "      <th>order_delivered_carrier_date</th>\n",
       "      <th>order_delivered_customer_date</th>\n",
       "      <th>order_estimated_delivery_date</th>\n",
       "    </tr>\n",
       "  </thead>\n",
       "  <tbody>\n",
       "    <tr>\n",
       "      <th>0</th>\n",
       "      <td>e481f51cbdc54678b7cc49136f2d6af7</td>\n",
       "      <td>9ef432eb6251297304e76186b10a928d</td>\n",
       "      <td>delivered</td>\n",
       "      <td>2017-10-02 10:56:33</td>\n",
       "      <td>2017-10-02 11:07:15</td>\n",
       "      <td>2017-10-04 19:55:00</td>\n",
       "      <td>2017-10-10 21:25:13</td>\n",
       "      <td>2017-10-18 00:00:00</td>\n",
       "    </tr>\n",
       "    <tr>\n",
       "      <th>1</th>\n",
       "      <td>53cdb2fc8bc7dce0b6741e2150273451</td>\n",
       "      <td>b0830fb4747a6c6d20dea0b8c802d7ef</td>\n",
       "      <td>delivered</td>\n",
       "      <td>2018-07-24 20:41:37</td>\n",
       "      <td>2018-07-26 03:24:27</td>\n",
       "      <td>2018-07-26 14:31:00</td>\n",
       "      <td>2018-08-07 15:27:45</td>\n",
       "      <td>2018-08-13 00:00:00</td>\n",
       "    </tr>\n",
       "    <tr>\n",
       "      <th>2</th>\n",
       "      <td>47770eb9100c2d0c44946d9cf07ec65d</td>\n",
       "      <td>41ce2a54c0b03bf3443c3d931a367089</td>\n",
       "      <td>delivered</td>\n",
       "      <td>2018-08-08 08:38:49</td>\n",
       "      <td>2018-08-08 08:55:23</td>\n",
       "      <td>2018-08-08 13:50:00</td>\n",
       "      <td>2018-08-17 18:06:29</td>\n",
       "      <td>2018-09-04 00:00:00</td>\n",
       "    </tr>\n",
       "  </tbody>\n",
       "</table>\n",
       "</div>"
      ],
      "text/plain": [
       "                           order_id                       customer_id  \\\n",
       "0  e481f51cbdc54678b7cc49136f2d6af7  9ef432eb6251297304e76186b10a928d   \n",
       "1  53cdb2fc8bc7dce0b6741e2150273451  b0830fb4747a6c6d20dea0b8c802d7ef   \n",
       "2  47770eb9100c2d0c44946d9cf07ec65d  41ce2a54c0b03bf3443c3d931a367089   \n",
       "\n",
       "  order_status order_purchase_timestamp    order_approved_at  \\\n",
       "0    delivered      2017-10-02 10:56:33  2017-10-02 11:07:15   \n",
       "1    delivered      2018-07-24 20:41:37  2018-07-26 03:24:27   \n",
       "2    delivered      2018-08-08 08:38:49  2018-08-08 08:55:23   \n",
       "\n",
       "  order_delivered_carrier_date order_delivered_customer_date  \\\n",
       "0          2017-10-04 19:55:00           2017-10-10 21:25:13   \n",
       "1          2018-07-26 14:31:00           2018-08-07 15:27:45   \n",
       "2          2018-08-08 13:50:00           2018-08-17 18:06:29   \n",
       "\n",
       "  order_estimated_delivery_date  \n",
       "0           2017-10-18 00:00:00  \n",
       "1           2018-08-13 00:00:00  \n",
       "2           2018-09-04 00:00:00  "
      ]
     },
     "metadata": {},
     "output_type": "display_data"
    },
    {
     "name": "stdout",
     "output_type": "stream",
     "text": [
      "--- Customers ---\n"
     ]
    },
    {
     "data": {
      "text/html": [
       "<div>\n",
       "<style scoped>\n",
       "    .dataframe tbody tr th:only-of-type {\n",
       "        vertical-align: middle;\n",
       "    }\n",
       "\n",
       "    .dataframe tbody tr th {\n",
       "        vertical-align: top;\n",
       "    }\n",
       "\n",
       "    .dataframe thead th {\n",
       "        text-align: right;\n",
       "    }\n",
       "</style>\n",
       "<table border=\"1\" class=\"dataframe\">\n",
       "  <thead>\n",
       "    <tr style=\"text-align: right;\">\n",
       "      <th></th>\n",
       "      <th>customer_id</th>\n",
       "      <th>customer_unique_id</th>\n",
       "      <th>customer_zip_code_prefix</th>\n",
       "      <th>customer_city</th>\n",
       "      <th>customer_state</th>\n",
       "    </tr>\n",
       "  </thead>\n",
       "  <tbody>\n",
       "    <tr>\n",
       "      <th>0</th>\n",
       "      <td>06b8999e2fba1a1fbc88172c00ba8bc7</td>\n",
       "      <td>861eff4711a542e4b93843c6dd7febb0</td>\n",
       "      <td>14409</td>\n",
       "      <td>franca</td>\n",
       "      <td>SP</td>\n",
       "    </tr>\n",
       "    <tr>\n",
       "      <th>1</th>\n",
       "      <td>18955e83d337fd6b2def6b18a428ac77</td>\n",
       "      <td>290c77bc529b7ac935b93aa66c333dc3</td>\n",
       "      <td>9790</td>\n",
       "      <td>sao bernardo do campo</td>\n",
       "      <td>SP</td>\n",
       "    </tr>\n",
       "    <tr>\n",
       "      <th>2</th>\n",
       "      <td>4e7b3e00288586ebd08712fdd0374a03</td>\n",
       "      <td>060e732b5b29e8181a18229c7b0b2b5e</td>\n",
       "      <td>1151</td>\n",
       "      <td>sao paulo</td>\n",
       "      <td>SP</td>\n",
       "    </tr>\n",
       "  </tbody>\n",
       "</table>\n",
       "</div>"
      ],
      "text/plain": [
       "                        customer_id                customer_unique_id  \\\n",
       "0  06b8999e2fba1a1fbc88172c00ba8bc7  861eff4711a542e4b93843c6dd7febb0   \n",
       "1  18955e83d337fd6b2def6b18a428ac77  290c77bc529b7ac935b93aa66c333dc3   \n",
       "2  4e7b3e00288586ebd08712fdd0374a03  060e732b5b29e8181a18229c7b0b2b5e   \n",
       "\n",
       "   customer_zip_code_prefix          customer_city customer_state  \n",
       "0                     14409                 franca             SP  \n",
       "1                      9790  sao bernardo do campo             SP  \n",
       "2                      1151              sao paulo             SP  "
      ]
     },
     "metadata": {},
     "output_type": "display_data"
    },
    {
     "name": "stdout",
     "output_type": "stream",
     "text": [
      "--- Products ---\n"
     ]
    },
    {
     "data": {
      "text/html": [
       "<div>\n",
       "<style scoped>\n",
       "    .dataframe tbody tr th:only-of-type {\n",
       "        vertical-align: middle;\n",
       "    }\n",
       "\n",
       "    .dataframe tbody tr th {\n",
       "        vertical-align: top;\n",
       "    }\n",
       "\n",
       "    .dataframe thead th {\n",
       "        text-align: right;\n",
       "    }\n",
       "</style>\n",
       "<table border=\"1\" class=\"dataframe\">\n",
       "  <thead>\n",
       "    <tr style=\"text-align: right;\">\n",
       "      <th></th>\n",
       "      <th>product_id</th>\n",
       "      <th>product_category_name</th>\n",
       "      <th>product_name_lenght</th>\n",
       "      <th>product_description_lenght</th>\n",
       "      <th>product_photos_qty</th>\n",
       "      <th>product_weight_g</th>\n",
       "      <th>product_length_cm</th>\n",
       "      <th>product_height_cm</th>\n",
       "      <th>product_width_cm</th>\n",
       "    </tr>\n",
       "  </thead>\n",
       "  <tbody>\n",
       "    <tr>\n",
       "      <th>0</th>\n",
       "      <td>1e9e8ef04dbcff4541ed26657ea517e5</td>\n",
       "      <td>perfumaria</td>\n",
       "      <td>40.0</td>\n",
       "      <td>287.0</td>\n",
       "      <td>1.0</td>\n",
       "      <td>225.0</td>\n",
       "      <td>16.0</td>\n",
       "      <td>10.0</td>\n",
       "      <td>14.0</td>\n",
       "    </tr>\n",
       "    <tr>\n",
       "      <th>1</th>\n",
       "      <td>3aa071139cb16b67ca9e5dea641aaa2f</td>\n",
       "      <td>artes</td>\n",
       "      <td>44.0</td>\n",
       "      <td>276.0</td>\n",
       "      <td>1.0</td>\n",
       "      <td>1000.0</td>\n",
       "      <td>30.0</td>\n",
       "      <td>18.0</td>\n",
       "      <td>20.0</td>\n",
       "    </tr>\n",
       "    <tr>\n",
       "      <th>2</th>\n",
       "      <td>96bd76ec8810374ed1b65e291975717f</td>\n",
       "      <td>esporte_lazer</td>\n",
       "      <td>46.0</td>\n",
       "      <td>250.0</td>\n",
       "      <td>1.0</td>\n",
       "      <td>154.0</td>\n",
       "      <td>18.0</td>\n",
       "      <td>9.0</td>\n",
       "      <td>15.0</td>\n",
       "    </tr>\n",
       "  </tbody>\n",
       "</table>\n",
       "</div>"
      ],
      "text/plain": [
       "                         product_id product_category_name  \\\n",
       "0  1e9e8ef04dbcff4541ed26657ea517e5            perfumaria   \n",
       "1  3aa071139cb16b67ca9e5dea641aaa2f                 artes   \n",
       "2  96bd76ec8810374ed1b65e291975717f         esporte_lazer   \n",
       "\n",
       "   product_name_lenght  product_description_lenght  product_photos_qty  \\\n",
       "0                 40.0                       287.0                 1.0   \n",
       "1                 44.0                       276.0                 1.0   \n",
       "2                 46.0                       250.0                 1.0   \n",
       "\n",
       "   product_weight_g  product_length_cm  product_height_cm  product_width_cm  \n",
       "0             225.0               16.0               10.0              14.0  \n",
       "1            1000.0               30.0               18.0              20.0  \n",
       "2             154.0               18.0                9.0              15.0  "
      ]
     },
     "metadata": {},
     "output_type": "display_data"
    },
    {
     "name": "stdout",
     "output_type": "stream",
     "text": [
      "--- Order Items ---\n"
     ]
    },
    {
     "data": {
      "text/html": [
       "<div>\n",
       "<style scoped>\n",
       "    .dataframe tbody tr th:only-of-type {\n",
       "        vertical-align: middle;\n",
       "    }\n",
       "\n",
       "    .dataframe tbody tr th {\n",
       "        vertical-align: top;\n",
       "    }\n",
       "\n",
       "    .dataframe thead th {\n",
       "        text-align: right;\n",
       "    }\n",
       "</style>\n",
       "<table border=\"1\" class=\"dataframe\">\n",
       "  <thead>\n",
       "    <tr style=\"text-align: right;\">\n",
       "      <th></th>\n",
       "      <th>order_id</th>\n",
       "      <th>order_item_id</th>\n",
       "      <th>product_id</th>\n",
       "      <th>seller_id</th>\n",
       "      <th>shipping_limit_date</th>\n",
       "      <th>price</th>\n",
       "      <th>freight_value</th>\n",
       "    </tr>\n",
       "  </thead>\n",
       "  <tbody>\n",
       "    <tr>\n",
       "      <th>0</th>\n",
       "      <td>00010242fe8c5a6d1ba2dd792cb16214</td>\n",
       "      <td>1</td>\n",
       "      <td>4244733e06e7ecb4970a6e2683c13e61</td>\n",
       "      <td>48436dade18ac8b2bce089ec2a041202</td>\n",
       "      <td>2017-09-19 09:45:35</td>\n",
       "      <td>58.9</td>\n",
       "      <td>13.29</td>\n",
       "    </tr>\n",
       "    <tr>\n",
       "      <th>1</th>\n",
       "      <td>00018f77f2f0320c557190d7a144bdd3</td>\n",
       "      <td>1</td>\n",
       "      <td>e5f2d52b802189ee658865ca93d83a8f</td>\n",
       "      <td>dd7ddc04e1b6c2c614352b383efe2d36</td>\n",
       "      <td>2017-05-03 11:05:13</td>\n",
       "      <td>239.9</td>\n",
       "      <td>19.93</td>\n",
       "    </tr>\n",
       "    <tr>\n",
       "      <th>2</th>\n",
       "      <td>000229ec398224ef6ca0657da4fc703e</td>\n",
       "      <td>1</td>\n",
       "      <td>c777355d18b72b67abbeef9df44fd0fd</td>\n",
       "      <td>5b51032eddd242adc84c38acab88f23d</td>\n",
       "      <td>2018-01-18 14:48:30</td>\n",
       "      <td>199.0</td>\n",
       "      <td>17.87</td>\n",
       "    </tr>\n",
       "  </tbody>\n",
       "</table>\n",
       "</div>"
      ],
      "text/plain": [
       "                           order_id  order_item_id  \\\n",
       "0  00010242fe8c5a6d1ba2dd792cb16214              1   \n",
       "1  00018f77f2f0320c557190d7a144bdd3              1   \n",
       "2  000229ec398224ef6ca0657da4fc703e              1   \n",
       "\n",
       "                         product_id                         seller_id  \\\n",
       "0  4244733e06e7ecb4970a6e2683c13e61  48436dade18ac8b2bce089ec2a041202   \n",
       "1  e5f2d52b802189ee658865ca93d83a8f  dd7ddc04e1b6c2c614352b383efe2d36   \n",
       "2  c777355d18b72b67abbeef9df44fd0fd  5b51032eddd242adc84c38acab88f23d   \n",
       "\n",
       "   shipping_limit_date  price  freight_value  \n",
       "0  2017-09-19 09:45:35   58.9          13.29  \n",
       "1  2017-05-03 11:05:13  239.9          19.93  \n",
       "2  2018-01-18 14:48:30  199.0          17.87  "
      ]
     },
     "metadata": {},
     "output_type": "display_data"
    },
    {
     "name": "stdout",
     "output_type": "stream",
     "text": [
      "--- Payments ---\n"
     ]
    },
    {
     "data": {
      "text/html": [
       "<div>\n",
       "<style scoped>\n",
       "    .dataframe tbody tr th:only-of-type {\n",
       "        vertical-align: middle;\n",
       "    }\n",
       "\n",
       "    .dataframe tbody tr th {\n",
       "        vertical-align: top;\n",
       "    }\n",
       "\n",
       "    .dataframe thead th {\n",
       "        text-align: right;\n",
       "    }\n",
       "</style>\n",
       "<table border=\"1\" class=\"dataframe\">\n",
       "  <thead>\n",
       "    <tr style=\"text-align: right;\">\n",
       "      <th></th>\n",
       "      <th>order_id</th>\n",
       "      <th>payment_sequential</th>\n",
       "      <th>payment_type</th>\n",
       "      <th>payment_installments</th>\n",
       "      <th>payment_value</th>\n",
       "    </tr>\n",
       "  </thead>\n",
       "  <tbody>\n",
       "    <tr>\n",
       "      <th>0</th>\n",
       "      <td>b81ef226f3fe1789b1e8b2acac839d17</td>\n",
       "      <td>1</td>\n",
       "      <td>credit_card</td>\n",
       "      <td>8</td>\n",
       "      <td>99.33</td>\n",
       "    </tr>\n",
       "    <tr>\n",
       "      <th>1</th>\n",
       "      <td>a9810da82917af2d9aefd1278f1dcfa0</td>\n",
       "      <td>1</td>\n",
       "      <td>credit_card</td>\n",
       "      <td>1</td>\n",
       "      <td>24.39</td>\n",
       "    </tr>\n",
       "    <tr>\n",
       "      <th>2</th>\n",
       "      <td>25e8ea4e93396b6fa0d3dd708e76c1bd</td>\n",
       "      <td>1</td>\n",
       "      <td>credit_card</td>\n",
       "      <td>1</td>\n",
       "      <td>65.71</td>\n",
       "    </tr>\n",
       "  </tbody>\n",
       "</table>\n",
       "</div>"
      ],
      "text/plain": [
       "                           order_id  payment_sequential payment_type  \\\n",
       "0  b81ef226f3fe1789b1e8b2acac839d17                   1  credit_card   \n",
       "1  a9810da82917af2d9aefd1278f1dcfa0                   1  credit_card   \n",
       "2  25e8ea4e93396b6fa0d3dd708e76c1bd                   1  credit_card   \n",
       "\n",
       "   payment_installments  payment_value  \n",
       "0                     8          99.33  \n",
       "1                     1          24.39  \n",
       "2                     1          65.71  "
      ]
     },
     "metadata": {},
     "output_type": "display_data"
    },
    {
     "name": "stdout",
     "output_type": "stream",
     "text": [
      "--- Reviews ---\n"
     ]
    },
    {
     "data": {
      "text/html": [
       "<div>\n",
       "<style scoped>\n",
       "    .dataframe tbody tr th:only-of-type {\n",
       "        vertical-align: middle;\n",
       "    }\n",
       "\n",
       "    .dataframe tbody tr th {\n",
       "        vertical-align: top;\n",
       "    }\n",
       "\n",
       "    .dataframe thead th {\n",
       "        text-align: right;\n",
       "    }\n",
       "</style>\n",
       "<table border=\"1\" class=\"dataframe\">\n",
       "  <thead>\n",
       "    <tr style=\"text-align: right;\">\n",
       "      <th></th>\n",
       "      <th>review_id</th>\n",
       "      <th>order_id</th>\n",
       "      <th>review_score</th>\n",
       "      <th>review_comment_title</th>\n",
       "      <th>review_comment_message</th>\n",
       "      <th>review_creation_date</th>\n",
       "      <th>review_answer_timestamp</th>\n",
       "    </tr>\n",
       "  </thead>\n",
       "  <tbody>\n",
       "    <tr>\n",
       "      <th>0</th>\n",
       "      <td>7bc2406110b926393aa56f80a40eba40</td>\n",
       "      <td>73fc7af87114b39712e6da79b0a377eb</td>\n",
       "      <td>4</td>\n",
       "      <td>NaN</td>\n",
       "      <td>NaN</td>\n",
       "      <td>2018-01-18 00:00:00</td>\n",
       "      <td>2018-01-18 21:46:59</td>\n",
       "    </tr>\n",
       "    <tr>\n",
       "      <th>1</th>\n",
       "      <td>80e641a11e56f04c1ad469d5645fdfde</td>\n",
       "      <td>a548910a1c6147796b98fdf73dbeba33</td>\n",
       "      <td>5</td>\n",
       "      <td>NaN</td>\n",
       "      <td>NaN</td>\n",
       "      <td>2018-03-10 00:00:00</td>\n",
       "      <td>2018-03-11 03:05:13</td>\n",
       "    </tr>\n",
       "    <tr>\n",
       "      <th>2</th>\n",
       "      <td>228ce5500dc1d8e020d8d1322874b6f0</td>\n",
       "      <td>f9e4b658b201a9f2ecdecbb34bed034b</td>\n",
       "      <td>5</td>\n",
       "      <td>NaN</td>\n",
       "      <td>NaN</td>\n",
       "      <td>2018-02-17 00:00:00</td>\n",
       "      <td>2018-02-18 14:36:24</td>\n",
       "    </tr>\n",
       "  </tbody>\n",
       "</table>\n",
       "</div>"
      ],
      "text/plain": [
       "                          review_id                          order_id  \\\n",
       "0  7bc2406110b926393aa56f80a40eba40  73fc7af87114b39712e6da79b0a377eb   \n",
       "1  80e641a11e56f04c1ad469d5645fdfde  a548910a1c6147796b98fdf73dbeba33   \n",
       "2  228ce5500dc1d8e020d8d1322874b6f0  f9e4b658b201a9f2ecdecbb34bed034b   \n",
       "\n",
       "   review_score review_comment_title review_comment_message  \\\n",
       "0             4                  NaN                    NaN   \n",
       "1             5                  NaN                    NaN   \n",
       "2             5                  NaN                    NaN   \n",
       "\n",
       "  review_creation_date review_answer_timestamp  \n",
       "0  2018-01-18 00:00:00     2018-01-18 21:46:59  \n",
       "1  2018-03-10 00:00:00     2018-03-11 03:05:13  \n",
       "2  2018-02-17 00:00:00     2018-02-18 14:36:24  "
      ]
     },
     "metadata": {},
     "output_type": "display_data"
    },
    {
     "name": "stdout",
     "output_type": "stream",
     "text": [
      "--- Sellers ---\n"
     ]
    },
    {
     "data": {
      "text/html": [
       "<div>\n",
       "<style scoped>\n",
       "    .dataframe tbody tr th:only-of-type {\n",
       "        vertical-align: middle;\n",
       "    }\n",
       "\n",
       "    .dataframe tbody tr th {\n",
       "        vertical-align: top;\n",
       "    }\n",
       "\n",
       "    .dataframe thead th {\n",
       "        text-align: right;\n",
       "    }\n",
       "</style>\n",
       "<table border=\"1\" class=\"dataframe\">\n",
       "  <thead>\n",
       "    <tr style=\"text-align: right;\">\n",
       "      <th></th>\n",
       "      <th>seller_id</th>\n",
       "      <th>seller_zip_code_prefix</th>\n",
       "      <th>seller_city</th>\n",
       "      <th>seller_state</th>\n",
       "    </tr>\n",
       "  </thead>\n",
       "  <tbody>\n",
       "    <tr>\n",
       "      <th>0</th>\n",
       "      <td>3442f8959a84dea7ee197c632cb2df15</td>\n",
       "      <td>13023</td>\n",
       "      <td>campinas</td>\n",
       "      <td>SP</td>\n",
       "    </tr>\n",
       "    <tr>\n",
       "      <th>1</th>\n",
       "      <td>d1b65fc7debc3361ea86b5f14c68d2e2</td>\n",
       "      <td>13844</td>\n",
       "      <td>mogi guacu</td>\n",
       "      <td>SP</td>\n",
       "    </tr>\n",
       "    <tr>\n",
       "      <th>2</th>\n",
       "      <td>ce3ad9de960102d0677a81f5d0bb7b2d</td>\n",
       "      <td>20031</td>\n",
       "      <td>rio de janeiro</td>\n",
       "      <td>RJ</td>\n",
       "    </tr>\n",
       "  </tbody>\n",
       "</table>\n",
       "</div>"
      ],
      "text/plain": [
       "                          seller_id  seller_zip_code_prefix     seller_city  \\\n",
       "0  3442f8959a84dea7ee197c632cb2df15                   13023        campinas   \n",
       "1  d1b65fc7debc3361ea86b5f14c68d2e2                   13844      mogi guacu   \n",
       "2  ce3ad9de960102d0677a81f5d0bb7b2d                   20031  rio de janeiro   \n",
       "\n",
       "  seller_state  \n",
       "0           SP  \n",
       "1           SP  \n",
       "2           RJ  "
      ]
     },
     "metadata": {},
     "output_type": "display_data"
    },
    {
     "name": "stdout",
     "output_type": "stream",
     "text": [
      "--- Geolocation ---\n"
     ]
    },
    {
     "data": {
      "text/html": [
       "<div>\n",
       "<style scoped>\n",
       "    .dataframe tbody tr th:only-of-type {\n",
       "        vertical-align: middle;\n",
       "    }\n",
       "\n",
       "    .dataframe tbody tr th {\n",
       "        vertical-align: top;\n",
       "    }\n",
       "\n",
       "    .dataframe thead th {\n",
       "        text-align: right;\n",
       "    }\n",
       "</style>\n",
       "<table border=\"1\" class=\"dataframe\">\n",
       "  <thead>\n",
       "    <tr style=\"text-align: right;\">\n",
       "      <th></th>\n",
       "      <th>geolocation_zip_code_prefix</th>\n",
       "      <th>geolocation_lat</th>\n",
       "      <th>geolocation_lng</th>\n",
       "      <th>geolocation_city</th>\n",
       "      <th>geolocation_state</th>\n",
       "    </tr>\n",
       "  </thead>\n",
       "  <tbody>\n",
       "    <tr>\n",
       "      <th>0</th>\n",
       "      <td>1037</td>\n",
       "      <td>-23.545621</td>\n",
       "      <td>-46.639292</td>\n",
       "      <td>sao paulo</td>\n",
       "      <td>SP</td>\n",
       "    </tr>\n",
       "    <tr>\n",
       "      <th>1</th>\n",
       "      <td>1046</td>\n",
       "      <td>-23.546081</td>\n",
       "      <td>-46.644820</td>\n",
       "      <td>sao paulo</td>\n",
       "      <td>SP</td>\n",
       "    </tr>\n",
       "    <tr>\n",
       "      <th>2</th>\n",
       "      <td>1046</td>\n",
       "      <td>-23.546129</td>\n",
       "      <td>-46.642951</td>\n",
       "      <td>sao paulo</td>\n",
       "      <td>SP</td>\n",
       "    </tr>\n",
       "  </tbody>\n",
       "</table>\n",
       "</div>"
      ],
      "text/plain": [
       "   geolocation_zip_code_prefix  geolocation_lat  geolocation_lng  \\\n",
       "0                         1037       -23.545621       -46.639292   \n",
       "1                         1046       -23.546081       -46.644820   \n",
       "2                         1046       -23.546129       -46.642951   \n",
       "\n",
       "  geolocation_city geolocation_state  \n",
       "0        sao paulo                SP  \n",
       "1        sao paulo                SP  \n",
       "2        sao paulo                SP  "
      ]
     },
     "metadata": {},
     "output_type": "display_data"
    },
    {
     "name": "stdout",
     "output_type": "stream",
     "text": [
      "--- Product Categories ---\n"
     ]
    },
    {
     "data": {
      "text/html": [
       "<div>\n",
       "<style scoped>\n",
       "    .dataframe tbody tr th:only-of-type {\n",
       "        vertical-align: middle;\n",
       "    }\n",
       "\n",
       "    .dataframe tbody tr th {\n",
       "        vertical-align: top;\n",
       "    }\n",
       "\n",
       "    .dataframe thead th {\n",
       "        text-align: right;\n",
       "    }\n",
       "</style>\n",
       "<table border=\"1\" class=\"dataframe\">\n",
       "  <thead>\n",
       "    <tr style=\"text-align: right;\">\n",
       "      <th></th>\n",
       "      <th>product_category_name</th>\n",
       "      <th>product_category_name_english</th>\n",
       "    </tr>\n",
       "  </thead>\n",
       "  <tbody>\n",
       "    <tr>\n",
       "      <th>0</th>\n",
       "      <td>beleza_saude</td>\n",
       "      <td>health_beauty</td>\n",
       "    </tr>\n",
       "    <tr>\n",
       "      <th>1</th>\n",
       "      <td>informatica_acessorios</td>\n",
       "      <td>computers_accessories</td>\n",
       "    </tr>\n",
       "    <tr>\n",
       "      <th>2</th>\n",
       "      <td>automotivo</td>\n",
       "      <td>auto</td>\n",
       "    </tr>\n",
       "  </tbody>\n",
       "</table>\n",
       "</div>"
      ],
      "text/plain": [
       "    product_category_name product_category_name_english\n",
       "0            beleza_saude                 health_beauty\n",
       "1  informatica_acessorios         computers_accessories\n",
       "2              automotivo                          auto"
      ]
     },
     "metadata": {},
     "output_type": "display_data"
    }
   ],
   "source": [
    "print(\"--- Orders ---\")\n",
    "display(orders.head(3))\n",
    "\n",
    "print(\"--- Customers ---\")\n",
    "display(customers.head(3))\n",
    "\n",
    "print(\"--- Products ---\")\n",
    "display(products.head(3))\n",
    "\n",
    "print(\"--- Order Items ---\")\n",
    "display(order_items.head(3))\n",
    "\n",
    "print(\"--- Payments ---\")\n",
    "display(payments.head(3))\n",
    "\n",
    "print(\"--- Reviews ---\")\n",
    "display(reviews.head(3))\n",
    "\n",
    "print(\"--- Sellers ---\")\n",
    "display(sellers.head(3))\n",
    "\n",
    "print(\"--- Geolocation ---\")\n",
    "display(geolocation.head(3))\n",
    "\n",
    "print(\"--- Product Categories ---\")\n",
    "display(product_categories.head(3))"
   ]
  },
  {
   "cell_type": "markdown",
   "id": "de864783-a36f-4081-b3ac-fc2a656ef268",
   "metadata": {},
   "source": [
    "## Data Cleaning & Preprocessing"
   ]
  },
  {
   "cell_type": "markdown",
   "id": "30c17f76-7db8-4ec4-b6bb-76bba8a3f4b8",
   "metadata": {
    "jp-MarkdownHeadingCollapsed": true
   },
   "source": [
    "### Orders"
   ]
  },
  {
   "cell_type": "code",
   "execution_count": 13,
   "id": "6a81454c-b9fe-4e06-95d8-d10b9d9d7ff2",
   "metadata": {
    "scrolled": true
   },
   "outputs": [
    {
     "name": "stdout",
     "output_type": "stream",
     "text": [
      "<class 'pandas.core.frame.DataFrame'>\n",
      "RangeIndex: 99441 entries, 0 to 99440\n",
      "Data columns (total 8 columns):\n",
      " #   Column                         Non-Null Count  Dtype \n",
      "---  ------                         --------------  ----- \n",
      " 0   order_id                       99441 non-null  object\n",
      " 1   customer_id                    99441 non-null  object\n",
      " 2   order_status                   99441 non-null  object\n",
      " 3   order_purchase_timestamp       99441 non-null  object\n",
      " 4   order_approved_at              99281 non-null  object\n",
      " 5   order_delivered_carrier_date   97658 non-null  object\n",
      " 6   order_delivered_customer_date  96476 non-null  object\n",
      " 7   order_estimated_delivery_date  99441 non-null  object\n",
      "dtypes: object(8)\n",
      "memory usage: 6.1+ MB\n"
     ]
    }
   ],
   "source": [
    "# Check basic info\n",
    "orders.info()"
   ]
  },
  {
   "cell_type": "code",
   "execution_count": 16,
   "id": "51b463cb-d8af-4ab5-991a-547d0ecdf330",
   "metadata": {},
   "outputs": [],
   "source": [
    "# Convert dates to datetime type\n",
    "orders['order_purchase_timestamp'] = pd.to_datetime(orders['order_purchase_timestamp'])\n",
    "orders['order_approved_at'] = pd.to_datetime(orders['order_approved_at'])\n",
    "orders['order_delivered_carrier_date'] = pd.to_datetime(orders['order_delivered_carrier_date'])\n",
    "orders['order_delivered_customer_date'] = pd.to_datetime(orders['order_delivered_customer_date'])\n",
    "orders['order_estimated_delivery_date'] = pd.to_datetime(orders['order_estimated_delivery_date'])\n"
   ]
  },
  {
   "cell_type": "code",
   "execution_count": 14,
   "id": "00ac963d-41cb-4a2a-967b-f4dacf83a032",
   "metadata": {
    "scrolled": true
   },
   "outputs": [
    {
     "data": {
      "text/plain": [
       "order_id                            0\n",
       "customer_id                         0\n",
       "order_status                        0\n",
       "order_purchase_timestamp            0\n",
       "order_approved_at                 160\n",
       "order_delivered_carrier_date     1783\n",
       "order_delivered_customer_date    2965\n",
       "order_estimated_delivery_date       0\n",
       "dtype: int64"
      ]
     },
     "execution_count": 14,
     "metadata": {},
     "output_type": "execute_result"
    }
   ],
   "source": [
    "# Check for missing values\n",
    "orders.isnull().sum()"
   ]
  },
  {
   "cell_type": "code",
   "execution_count": 15,
   "id": "e16a3317-b321-4e15-9a9a-2909d462b35e",
   "metadata": {},
   "outputs": [
    {
     "data": {
      "text/plain": [
       "np.int64(0)"
      ]
     },
     "execution_count": 15,
     "metadata": {},
     "output_type": "execute_result"
    }
   ],
   "source": [
    "# Check for duplicates\n",
    "orders.duplicated().sum()"
   ]
  },
  {
   "cell_type": "code",
   "execution_count": 19,
   "id": "c42ad96f-6f0f-41bc-a8e3-eac536550f24",
   "metadata": {},
   "outputs": [],
   "source": [
    "# Add a flag for missing deliveries\n",
    "orders['delivery_missing'] = orders['order_delivered_customer_date'].isnull()"
   ]
  },
  {
   "cell_type": "code",
   "execution_count": 20,
   "id": "28b724ca-3466-426a-ac18-109a04b61351",
   "metadata": {},
   "outputs": [],
   "source": [
    "#Add a flag for missing approvals\n",
    "orders['approval_missing'] = orders['order_approved_at'].isnull()"
   ]
  },
  {
   "cell_type": "code",
   "execution_count": 21,
   "id": "8cc317dc-28e8-4f62-af80-b17b76e055c1",
   "metadata": {},
   "outputs": [],
   "source": [
    "#Calculate delivery time only for orders that were delivered\n",
    "orders['delivery_time_days'] = (orders['order_delivered_customer_date'] - orders['order_purchase_timestamp']).dt.days"
   ]
  },
  {
   "cell_type": "code",
   "execution_count": 22,
   "id": "8fbf4290-a6eb-45bb-a46c-b1bcfc7ec59c",
   "metadata": {},
   "outputs": [
    {
     "name": "stdout",
     "output_type": "stream",
     "text": [
      "Missing delivery dates: 2965\n",
      "Missing approval dates: 160\n",
      "Delivery time stats (for delivered orders):\n",
      "count    96476.000000\n",
      "mean        12.094086\n",
      "std          9.551746\n",
      "min          0.000000\n",
      "25%          6.000000\n",
      "50%         10.000000\n",
      "75%         15.000000\n",
      "max        209.000000\n",
      "Name: delivery_time_days, dtype: float64\n"
     ]
    }
   ],
   "source": [
    "print(\"Missing delivery dates:\", orders['delivery_missing'].sum())\n",
    "print(\"Missing approval dates:\", orders['approval_missing'].sum())\n",
    "print(\"Delivery time stats (for delivered orders):\")\n",
    "print(orders['delivery_time_days'].describe())"
   ]
  },
  {
   "cell_type": "markdown",
   "id": "e28b5083-1236-4810-8226-3133689468d4",
   "metadata": {
    "jp-MarkdownHeadingCollapsed": true
   },
   "source": [
    "### Customers"
   ]
  },
  {
   "cell_type": "code",
   "execution_count": 23,
   "id": "474ce337-a2af-40c4-b2b9-a97015dd97a3",
   "metadata": {},
   "outputs": [
    {
     "name": "stdout",
     "output_type": "stream",
     "text": [
      "<class 'pandas.core.frame.DataFrame'>\n",
      "RangeIndex: 99441 entries, 0 to 99440\n",
      "Data columns (total 5 columns):\n",
      " #   Column                    Non-Null Count  Dtype \n",
      "---  ------                    --------------  ----- \n",
      " 0   customer_id               99441 non-null  object\n",
      " 1   customer_unique_id        99441 non-null  object\n",
      " 2   customer_zip_code_prefix  99441 non-null  int64 \n",
      " 3   customer_city             99441 non-null  object\n",
      " 4   customer_state            99441 non-null  object\n",
      "dtypes: int64(1), object(4)\n",
      "memory usage: 3.8+ MB\n"
     ]
    }
   ],
   "source": [
    "#Check basic info\n",
    "customers.info()"
   ]
  },
  {
   "cell_type": "code",
   "execution_count": 24,
   "id": "158eb026-68de-4344-bce8-3d7f9e56e410",
   "metadata": {},
   "outputs": [
    {
     "name": "stdout",
     "output_type": "stream",
     "text": [
      "customer_id                 0\n",
      "customer_unique_id          0\n",
      "customer_zip_code_prefix    0\n",
      "customer_city               0\n",
      "customer_state              0\n",
      "dtype: int64\n"
     ]
    }
   ],
   "source": [
    "#Check for missing values\n",
    "print(customers.isnull().sum())"
   ]
  },
  {
   "cell_type": "code",
   "execution_count": 25,
   "id": "0a8178f3-fe8f-43d4-a03a-ae86f7ffd17f",
   "metadata": {},
   "outputs": [
    {
     "name": "stdout",
     "output_type": "stream",
     "text": [
      "Duplicate customer_ids: 0\n",
      "Duplicate customer_unique_ids: 3345\n"
     ]
    }
   ],
   "source": [
    "# Check for duplicates\n",
    "print(\"Duplicate customer_ids:\", customers['customer_id'].duplicated().sum())\n",
    "print(\"Duplicate customer_unique_ids:\", customers['customer_unique_id'].duplicated().sum())"
   ]
  },
  {
   "cell_type": "code",
   "execution_count": 26,
   "id": "3e741e58-d4c3-446d-894c-90a32c169389",
   "metadata": {},
   "outputs": [
    {
     "name": "stdout",
     "output_type": "stream",
     "text": [
      "Total unique customer_ids: 99441\n",
      "Total unique customer_unique_ids: 96096\n"
     ]
    }
   ],
   "source": [
    "#Check number of unique customers\n",
    "print(\"Total unique customer_ids:\", customers['customer_id'].nunique())\n",
    "print(\"Total unique customer_unique_ids:\", customers['customer_unique_id'].nunique())"
   ]
  },
  {
   "cell_type": "markdown",
   "id": "ab967a93-98e1-44cd-929b-22f4992cdcbd",
   "metadata": {
    "jp-MarkdownHeadingCollapsed": true
   },
   "source": [
    "### Products"
   ]
  },
  {
   "cell_type": "code",
   "execution_count": 27,
   "id": "29162766-182f-4e9b-9e45-38d3607aa28d",
   "metadata": {},
   "outputs": [
    {
     "name": "stdout",
     "output_type": "stream",
     "text": [
      "<class 'pandas.core.frame.DataFrame'>\n",
      "RangeIndex: 32951 entries, 0 to 32950\n",
      "Data columns (total 9 columns):\n",
      " #   Column                      Non-Null Count  Dtype  \n",
      "---  ------                      --------------  -----  \n",
      " 0   product_id                  32951 non-null  object \n",
      " 1   product_category_name       32341 non-null  object \n",
      " 2   product_name_lenght         32341 non-null  float64\n",
      " 3   product_description_lenght  32341 non-null  float64\n",
      " 4   product_photos_qty          32341 non-null  float64\n",
      " 5   product_weight_g            32949 non-null  float64\n",
      " 6   product_length_cm           32949 non-null  float64\n",
      " 7   product_height_cm           32949 non-null  float64\n",
      " 8   product_width_cm            32949 non-null  float64\n",
      "dtypes: float64(7), object(2)\n",
      "memory usage: 2.3+ MB\n"
     ]
    }
   ],
   "source": [
    "#Check basic info\n",
    "products.info()"
   ]
  },
  {
   "cell_type": "code",
   "execution_count": 28,
   "id": "97e56fbc-b7a3-451e-8e6e-da87a12e869d",
   "metadata": {},
   "outputs": [
    {
     "name": "stdout",
     "output_type": "stream",
     "text": [
      "product_id                      0\n",
      "product_category_name         610\n",
      "product_name_lenght           610\n",
      "product_description_lenght    610\n",
      "product_photos_qty            610\n",
      "product_weight_g                2\n",
      "product_length_cm               2\n",
      "product_height_cm               2\n",
      "product_width_cm                2\n",
      "dtype: int64\n"
     ]
    }
   ],
   "source": [
    "#Check for missing values\n",
    "print(products.isnull().sum())"
   ]
  },
  {
   "cell_type": "code",
   "execution_count": 29,
   "id": "9ac8530e-8250-4836-b14e-5a615edfa5ca",
   "metadata": {},
   "outputs": [
    {
     "name": "stdout",
     "output_type": "stream",
     "text": [
      "Duplicate product_ids: 0\n"
     ]
    }
   ],
   "source": [
    "#Check for duplicates\n",
    "print(\"Duplicate product_ids:\", products['product_id'].duplicated().sum())"
   ]
  },
  {
   "cell_type": "code",
   "execution_count": 30,
   "id": "a0e0dd3e-999e-45c3-853f-0cf039e9d051",
   "metadata": {},
   "outputs": [
    {
     "name": "stdout",
     "output_type": "stream",
     "text": [
      "                             product_id product_category_name  \\\n",
      "105    a41e356c76fab66334f36de622ecbd3a                   NaN   \n",
      "128    d8dee61c2034d6d075997acef1870e9b                   NaN   \n",
      "145    56139431d72cd51f19eb9f7dae4d1617                   NaN   \n",
      "154    46b48281eb6d663ced748f324108c733                   NaN   \n",
      "197    5fb61f482620cb672f5e586bb132eae9                   NaN   \n",
      "...                                 ...                   ...   \n",
      "32515  b0a0c5dd78e644373b199380612c350a                   NaN   \n",
      "32589  10dbe0fbaa2c505123c17fdc34a63c56                   NaN   \n",
      "32616  bd2ada37b58ae94cc838b9c0569fecd8                   NaN   \n",
      "32772  fa51e914046aab32764c41356b9d4ea4                   NaN   \n",
      "32852  c4ceee876c82b8328e9c293fa0e1989b                   NaN   \n",
      "\n",
      "       product_name_lenght  product_description_lenght  product_photos_qty  \\\n",
      "105                    NaN                         NaN                 NaN   \n",
      "128                    NaN                         NaN                 NaN   \n",
      "145                    NaN                         NaN                 NaN   \n",
      "154                    NaN                         NaN                 NaN   \n",
      "197                    NaN                         NaN                 NaN   \n",
      "...                    ...                         ...                 ...   \n",
      "32515                  NaN                         NaN                 NaN   \n",
      "32589                  NaN                         NaN                 NaN   \n",
      "32616                  NaN                         NaN                 NaN   \n",
      "32772                  NaN                         NaN                 NaN   \n",
      "32852                  NaN                         NaN                 NaN   \n",
      "\n",
      "       product_weight_g  product_length_cm  product_height_cm  \\\n",
      "105               650.0               17.0               14.0   \n",
      "128               300.0               16.0                7.0   \n",
      "145               200.0               20.0               20.0   \n",
      "154             18500.0               41.0               30.0   \n",
      "197               300.0               35.0                7.0   \n",
      "...                 ...                ...                ...   \n",
      "32515            1800.0               30.0               20.0   \n",
      "32589             800.0               30.0               10.0   \n",
      "32616             200.0               21.0                8.0   \n",
      "32772            1300.0               45.0               16.0   \n",
      "32852             700.0               28.0                3.0   \n",
      "\n",
      "       product_width_cm  \n",
      "105                12.0  \n",
      "128                20.0  \n",
      "145                20.0  \n",
      "154                41.0  \n",
      "197                12.0  \n",
      "...                 ...  \n",
      "32515              70.0  \n",
      "32589              23.0  \n",
      "32616              16.0  \n",
      "32772              45.0  \n",
      "32852              43.0  \n",
      "\n",
      "[610 rows x 9 columns]\n",
      "Number of missing category rows: 610\n"
     ]
    }
   ],
   "source": [
    "#Show rows with missing product categories\n",
    "missing_categories = products[products['product_category_name'].isnull()]\n",
    "print(missing_categories)\n",
    "print(\"Number of missing category rows:\", missing_categories.shape[0])"
   ]
  },
  {
   "cell_type": "code",
   "execution_count": 31,
   "id": "164255a5-68c0-4994-9a05-f489c0312375",
   "metadata": {},
   "outputs": [
    {
     "name": "stdout",
     "output_type": "stream",
     "text": [
      "product_name_lenght           0\n",
      "product_description_lenght    0\n",
      "product_photos_qty            0\n",
      "product_weight_g              0\n",
      "product_length_cm             0\n",
      "product_height_cm             0\n",
      "product_width_cm              0\n",
      "dtype: int64\n"
     ]
    }
   ],
   "source": [
    "# List of numeric columns to fill\n",
    "numeric_cols = ['product_name_lenght', 'product_description_lenght', 'product_photos_qty',\n",
    "                'product_weight_g', 'product_length_cm', 'product_height_cm', 'product_width_cm']\n",
    "\n",
    "# Fill missing values with the median of each column\n",
    "for col in numeric_cols:\n",
    "    products[col] = products[col].fillna(products[col].median())\n",
    "\n",
    "# Check again for missing numeric values\n",
    "print(products[numeric_cols].isnull().sum())\n"
   ]
  },
  {
   "cell_type": "code",
   "execution_count": 33,
   "id": "adea4d8b-bfab-47fb-833f-c75782b3236a",
   "metadata": {},
   "outputs": [
    {
     "data": {
      "text/html": [
       "<div>\n",
       "<style scoped>\n",
       "    .dataframe tbody tr th:only-of-type {\n",
       "        vertical-align: middle;\n",
       "    }\n",
       "\n",
       "    .dataframe tbody tr th {\n",
       "        vertical-align: top;\n",
       "    }\n",
       "\n",
       "    .dataframe thead th {\n",
       "        text-align: right;\n",
       "    }\n",
       "</style>\n",
       "<table border=\"1\" class=\"dataframe\">\n",
       "  <thead>\n",
       "    <tr style=\"text-align: right;\">\n",
       "      <th></th>\n",
       "      <th>product_category_name</th>\n",
       "      <th>product_category_name_english</th>\n",
       "    </tr>\n",
       "  </thead>\n",
       "  <tbody>\n",
       "    <tr>\n",
       "      <th>0</th>\n",
       "      <td>perfumaria</td>\n",
       "      <td>perfumery</td>\n",
       "    </tr>\n",
       "    <tr>\n",
       "      <th>1</th>\n",
       "      <td>artes</td>\n",
       "      <td>art</td>\n",
       "    </tr>\n",
       "    <tr>\n",
       "      <th>2</th>\n",
       "      <td>esporte_lazer</td>\n",
       "      <td>sports_leisure</td>\n",
       "    </tr>\n",
       "    <tr>\n",
       "      <th>3</th>\n",
       "      <td>bebes</td>\n",
       "      <td>baby</td>\n",
       "    </tr>\n",
       "    <tr>\n",
       "      <th>4</th>\n",
       "      <td>utilidades_domesticas</td>\n",
       "      <td>housewares</td>\n",
       "    </tr>\n",
       "  </tbody>\n",
       "</table>\n",
       "</div>"
      ],
      "text/plain": [
       "   product_category_name product_category_name_english\n",
       "0             perfumaria                     perfumery\n",
       "1                  artes                           art\n",
       "2          esporte_lazer                sports_leisure\n",
       "3                  bebes                          baby\n",
       "4  utilidades_domesticas                    housewares"
      ]
     },
     "execution_count": 33,
     "metadata": {},
     "output_type": "execute_result"
    }
   ],
   "source": [
    "# Merge products with product_categories to get English names\n",
    "products = products.merge(product_categories, how='left', on='product_category_name')\n",
    "\n",
    "# Check the first rows to confirm the merge\n",
    "products[['product_category_name', 'product_category_name_english']].head(5)\n"
   ]
  },
  {
   "cell_type": "code",
   "execution_count": 34,
   "id": "84e89c6f-e647-4e72-a083-aa9af4148f68",
   "metadata": {},
   "outputs": [
    {
     "name": "stdout",
     "output_type": "stream",
     "text": [
      "product_category_name            0\n",
      "product_category_name_english    0\n",
      "dtype: int64\n"
     ]
    }
   ],
   "source": [
    "# Fill missing categories\n",
    "products['product_category_name'] = products['product_category_name'].fillna('unknown')\n",
    "products['product_category_name_english'] = products['product_category_name_english'].fillna('unknown')\n",
    "\n",
    "# Verify that there are no missing values left\n",
    "print(products[['product_category_name', 'product_category_name_english']].isnull().sum())\n"
   ]
  },
  {
   "cell_type": "markdown",
   "id": "c6365cc4-fa5c-4713-82a1-985f63cbfb60",
   "metadata": {
    "jp-MarkdownHeadingCollapsed": true
   },
   "source": [
    "### Order_Items"
   ]
  },
  {
   "cell_type": "code",
   "execution_count": 36,
   "id": "ec52b751-1dfc-4d78-840c-377669723311",
   "metadata": {},
   "outputs": [
    {
     "name": "stdout",
     "output_type": "stream",
     "text": [
      "<class 'pandas.core.frame.DataFrame'>\n",
      "RangeIndex: 112650 entries, 0 to 112649\n",
      "Data columns (total 7 columns):\n",
      " #   Column               Non-Null Count   Dtype  \n",
      "---  ------               --------------   -----  \n",
      " 0   order_id             112650 non-null  object \n",
      " 1   order_item_id        112650 non-null  int64  \n",
      " 2   product_id           112650 non-null  object \n",
      " 3   seller_id            112650 non-null  object \n",
      " 4   shipping_limit_date  112650 non-null  object \n",
      " 5   price                112650 non-null  float64\n",
      " 6   freight_value        112650 non-null  float64\n",
      "dtypes: float64(2), int64(1), object(4)\n",
      "memory usage: 6.0+ MB\n"
     ]
    }
   ],
   "source": [
    "# Order Items table info\n",
    "order_items.info()\n"
   ]
  },
  {
   "cell_type": "code",
   "execution_count": 37,
   "id": "07498a9f-663f-4b9b-927e-ceae40f5b71a",
   "metadata": {},
   "outputs": [
    {
     "name": "stdout",
     "output_type": "stream",
     "text": [
      "order_id               0\n",
      "order_item_id          0\n",
      "product_id             0\n",
      "seller_id              0\n",
      "shipping_limit_date    0\n",
      "price                  0\n",
      "freight_value          0\n",
      "dtype: int64\n"
     ]
    }
   ],
   "source": [
    "# Check for missing values\n",
    "print(order_items.isnull().sum())"
   ]
  },
  {
   "cell_type": "code",
   "execution_count": 38,
   "id": "3be8e3b0-42da-4aa4-be45-680a0f2a228d",
   "metadata": {},
   "outputs": [
    {
     "name": "stdout",
     "output_type": "stream",
     "text": [
      "Duplicate order_id+item_id combinations: 0\n"
     ]
    }
   ],
   "source": [
    "# Check for duplicates\n",
    "print(\"Duplicate order_id+item_id combinations:\", order_items.duplicated(subset=['order_id','order_item_id']).sum())"
   ]
  },
  {
   "cell_type": "code",
   "execution_count": 39,
   "id": "da854142-7c21-4b1c-9888-72280e526727",
   "metadata": {},
   "outputs": [],
   "source": [
    "# Convert shipping_limit_date to datetime\n",
    "order_items['shipping_limit_date'] = pd.to_datetime(order_items['shipping_limit_date'])"
   ]
  },
  {
   "cell_type": "code",
   "execution_count": 40,
   "id": "21cd2c91-e61f-47c6-8f38-4a537af11752",
   "metadata": {},
   "outputs": [
    {
     "name": "stdout",
     "output_type": "stream",
     "text": [
      "datetime64[ns]\n"
     ]
    }
   ],
   "source": [
    "\n",
    "# Check the type\n",
    "print(order_items['shipping_limit_date'].dtype)"
   ]
  },
  {
   "cell_type": "markdown",
   "id": "70db1107-2f9a-4772-b5e2-87ad906af9f6",
   "metadata": {
    "jp-MarkdownHeadingCollapsed": true
   },
   "source": [
    "### Payment"
   ]
  },
  {
   "cell_type": "code",
   "execution_count": 41,
   "id": "b3d6ef38-9da4-4264-a532-612a62d7d44a",
   "metadata": {},
   "outputs": [
    {
     "name": "stdout",
     "output_type": "stream",
     "text": [
      "<class 'pandas.core.frame.DataFrame'>\n",
      "RangeIndex: 103886 entries, 0 to 103885\n",
      "Data columns (total 5 columns):\n",
      " #   Column                Non-Null Count   Dtype  \n",
      "---  ------                --------------   -----  \n",
      " 0   order_id              103886 non-null  object \n",
      " 1   payment_sequential    103886 non-null  int64  \n",
      " 2   payment_type          103886 non-null  object \n",
      " 3   payment_installments  103886 non-null  int64  \n",
      " 4   payment_value         103886 non-null  float64\n",
      "dtypes: float64(1), int64(2), object(2)\n",
      "memory usage: 4.0+ MB\n"
     ]
    }
   ],
   "source": [
    "# Payments table info\n",
    "payments.info()"
   ]
  },
  {
   "cell_type": "code",
   "execution_count": 42,
   "id": "3fbe2de3-4bdf-4f79-b84d-210ea44dc040",
   "metadata": {},
   "outputs": [
    {
     "name": "stdout",
     "output_type": "stream",
     "text": [
      "order_id                0\n",
      "payment_sequential      0\n",
      "payment_type            0\n",
      "payment_installments    0\n",
      "payment_value           0\n",
      "dtype: int64\n"
     ]
    }
   ],
   "source": [
    "# Check for missing values\n",
    "print(payments.isnull().sum())"
   ]
  },
  {
   "cell_type": "code",
   "execution_count": 43,
   "id": "f641541f-1a74-4412-be8d-8e4f8f7fdb66",
   "metadata": {},
   "outputs": [
    {
     "name": "stdout",
     "output_type": "stream",
     "text": [
      "Duplicate order_id+payment_sequential combinations: 0\n"
     ]
    }
   ],
   "source": [
    "# Check for duplicates\n",
    "print(\"Duplicate order_id+payment_sequential combinations:\", payments.duplicated(subset=['order_id','payment_sequential']).sum())"
   ]
  },
  {
   "cell_type": "markdown",
   "id": "fae16904-ba0c-4239-9221-887c6ce5a025",
   "metadata": {
    "jp-MarkdownHeadingCollapsed": true
   },
   "source": [
    "### Reviews"
   ]
  },
  {
   "cell_type": "code",
   "execution_count": 44,
   "id": "cf41bbc0-c716-4a59-baea-04d1646b63f1",
   "metadata": {},
   "outputs": [
    {
     "name": "stdout",
     "output_type": "stream",
     "text": [
      "<class 'pandas.core.frame.DataFrame'>\n",
      "RangeIndex: 99224 entries, 0 to 99223\n",
      "Data columns (total 7 columns):\n",
      " #   Column                   Non-Null Count  Dtype \n",
      "---  ------                   --------------  ----- \n",
      " 0   review_id                99224 non-null  object\n",
      " 1   order_id                 99224 non-null  object\n",
      " 2   review_score             99224 non-null  int64 \n",
      " 3   review_comment_title     11568 non-null  object\n",
      " 4   review_comment_message   40977 non-null  object\n",
      " 5   review_creation_date     99224 non-null  object\n",
      " 6   review_answer_timestamp  99224 non-null  object\n",
      "dtypes: int64(1), object(6)\n",
      "memory usage: 5.3+ MB\n"
     ]
    }
   ],
   "source": [
    "# Reviews table info\n",
    "reviews.info()"
   ]
  },
  {
   "cell_type": "code",
   "execution_count": 45,
   "id": "94e28e81-eec4-4c24-a50c-d0b360a0c267",
   "metadata": {},
   "outputs": [
    {
     "name": "stdout",
     "output_type": "stream",
     "text": [
      "review_id                      0\n",
      "order_id                       0\n",
      "review_score                   0\n",
      "review_comment_title       87656\n",
      "review_comment_message     58247\n",
      "review_creation_date           0\n",
      "review_answer_timestamp        0\n",
      "dtype: int64\n"
     ]
    }
   ],
   "source": [
    "# Check for missing values\n",
    "print(reviews.isnull().sum())"
   ]
  },
  {
   "cell_type": "code",
   "execution_count": 46,
   "id": "773cbf38-d1e0-4086-afc0-b414276bcaf2",
   "metadata": {},
   "outputs": [
    {
     "name": "stdout",
     "output_type": "stream",
     "text": [
      "Duplicate review_id: 814\n"
     ]
    }
   ],
   "source": [
    "# Check for duplicates\n",
    "print(\"Duplicate review_id:\", reviews['review_id'].duplicated().sum())"
   ]
  },
  {
   "cell_type": "code",
   "execution_count": 47,
   "id": "0a4bc6c0-5b40-467c-ba51-eb37cda47c34",
   "metadata": {},
   "outputs": [],
   "source": [
    "# Remove duplicate reviews\n",
    "reviews = reviews.drop_duplicates(subset='review_id', keep='first')\n"
   ]
  },
  {
   "cell_type": "code",
   "execution_count": 48,
   "id": "d5e89c94-901b-473e-91f8-78719262a872",
   "metadata": {},
   "outputs": [
    {
     "name": "stdout",
     "output_type": "stream",
     "text": [
      "98410\n"
     ]
    }
   ],
   "source": [
    "print(len(reviews))"
   ]
  },
  {
   "cell_type": "code",
   "execution_count": 49,
   "id": "a4591c91-c20c-409e-a48a-6fd28a016441",
   "metadata": {},
   "outputs": [],
   "source": [
    "#Handle missing review text\n",
    "reviews['review_comment_title'] = reviews['review_comment_title'].fillna('No Comment')\n",
    "reviews['review_comment_message'] = reviews['review_comment_message'].fillna('No Comment')"
   ]
  },
  {
   "cell_type": "code",
   "execution_count": 50,
   "id": "87b2b144-32af-4647-97ab-e767ae7067f9",
   "metadata": {},
   "outputs": [
    {
     "name": "stdout",
     "output_type": "stream",
     "text": [
      "review_comment_title      0\n",
      "review_comment_message    0\n",
      "dtype: int64\n"
     ]
    }
   ],
   "source": [
    "# Check again\n",
    "print(reviews[['review_comment_title','review_comment_message']].isnull().sum())"
   ]
  },
  {
   "cell_type": "code",
   "execution_count": 51,
   "id": "4840410d-3e03-4cb9-97dd-28161c7b6d32",
   "metadata": {},
   "outputs": [],
   "source": [
    "#Convert date columns to datetime\n",
    "reviews['review_creation_date'] = pd.to_datetime(reviews['review_creation_date'])\n",
    "reviews['review_answer_timestamp'] = pd.to_datetime(reviews['review_answer_timestamp'])\n"
   ]
  },
  {
   "cell_type": "code",
   "execution_count": 52,
   "id": "1cae6a8e-967f-4e7a-9467-5a39873485fc",
   "metadata": {},
   "outputs": [
    {
     "name": "stdout",
     "output_type": "stream",
     "text": [
      "review_creation_date       datetime64[ns]\n",
      "review_answer_timestamp    datetime64[ns]\n",
      "dtype: object\n"
     ]
    }
   ],
   "source": [
    "# Check dtypes\n",
    "print(reviews.dtypes[['review_creation_date','review_answer_timestamp']])"
   ]
  },
  {
   "cell_type": "markdown",
   "id": "41d67106-738e-4a8e-8330-4b111b9ee8a4",
   "metadata": {
    "jp-MarkdownHeadingCollapsed": true
   },
   "source": [
    "### Sellers"
   ]
  },
  {
   "cell_type": "code",
   "execution_count": 53,
   "id": "a3c6344c-0225-4963-a378-8e71b5b1a713",
   "metadata": {},
   "outputs": [
    {
     "name": "stdout",
     "output_type": "stream",
     "text": [
      "<class 'pandas.core.frame.DataFrame'>\n",
      "RangeIndex: 3095 entries, 0 to 3094\n",
      "Data columns (total 4 columns):\n",
      " #   Column                  Non-Null Count  Dtype \n",
      "---  ------                  --------------  ----- \n",
      " 0   seller_id               3095 non-null   object\n",
      " 1   seller_zip_code_prefix  3095 non-null   int64 \n",
      " 2   seller_city             3095 non-null   object\n",
      " 3   seller_state            3095 non-null   object\n",
      "dtypes: int64(1), object(3)\n",
      "memory usage: 96.8+ KB\n"
     ]
    }
   ],
   "source": [
    "# Sellers table info\n",
    "sellers.info()"
   ]
  },
  {
   "cell_type": "code",
   "execution_count": 54,
   "id": "4b50cb4d-009b-4eac-a6cf-6f771b0b8d13",
   "metadata": {},
   "outputs": [
    {
     "name": "stdout",
     "output_type": "stream",
     "text": [
      "seller_id                 0\n",
      "seller_zip_code_prefix    0\n",
      "seller_city               0\n",
      "seller_state              0\n",
      "dtype: int64\n"
     ]
    }
   ],
   "source": [
    "# Check for missing values\n",
    "print(sellers.isnull().sum())"
   ]
  },
  {
   "cell_type": "code",
   "execution_count": 55,
   "id": "e8c67ff9-d518-477f-9742-765226963c0e",
   "metadata": {},
   "outputs": [
    {
     "name": "stdout",
     "output_type": "stream",
     "text": [
      "Duplicate seller_id: 0\n"
     ]
    }
   ],
   "source": [
    "\n",
    "# Check for duplicate seller_id\n",
    "print(\"Duplicate seller_id:\", sellers['seller_id'].duplicated().sum())"
   ]
  },
  {
   "cell_type": "markdown",
   "id": "e2e6c3d0-b132-4d91-acad-0432e2c561a8",
   "metadata": {
    "jp-MarkdownHeadingCollapsed": true
   },
   "source": [
    "### Geolocation"
   ]
  },
  {
   "cell_type": "code",
   "execution_count": 56,
   "id": "52d6ac82-5190-4abf-8f03-7989b7f80d9d",
   "metadata": {},
   "outputs": [
    {
     "name": "stdout",
     "output_type": "stream",
     "text": [
      "<class 'pandas.core.frame.DataFrame'>\n",
      "RangeIndex: 1000163 entries, 0 to 1000162\n",
      "Data columns (total 5 columns):\n",
      " #   Column                       Non-Null Count    Dtype  \n",
      "---  ------                       --------------    -----  \n",
      " 0   geolocation_zip_code_prefix  1000163 non-null  int64  \n",
      " 1   geolocation_lat              1000163 non-null  float64\n",
      " 2   geolocation_lng              1000163 non-null  float64\n",
      " 3   geolocation_city             1000163 non-null  object \n",
      " 4   geolocation_state            1000163 non-null  object \n",
      "dtypes: float64(2), int64(1), object(2)\n",
      "memory usage: 38.2+ MB\n"
     ]
    }
   ],
   "source": [
    "# Geolocation table info\n",
    "geolocation.info()"
   ]
  },
  {
   "cell_type": "code",
   "execution_count": 57,
   "id": "27109851-2cb7-4bd5-be7f-ebdb00bf72aa",
   "metadata": {},
   "outputs": [
    {
     "name": "stdout",
     "output_type": "stream",
     "text": [
      "geolocation_zip_code_prefix    0\n",
      "geolocation_lat                0\n",
      "geolocation_lng                0\n",
      "geolocation_city               0\n",
      "geolocation_state              0\n",
      "dtype: int64\n"
     ]
    }
   ],
   "source": [
    "# Check for missing values\n",
    "print(geolocation.isnull().sum())"
   ]
  },
  {
   "cell_type": "code",
   "execution_count": 58,
   "id": "fd2979e6-f541-4cd9-9d4e-e5f2b82215be",
   "metadata": {},
   "outputs": [
    {
     "name": "stdout",
     "output_type": "stream",
     "text": [
      "Duplicate rows: 261831\n"
     ]
    }
   ],
   "source": [
    "# Check for duplicates based on all columns\n",
    "print(\"Duplicate rows:\", geolocation.duplicated().sum())"
   ]
  },
  {
   "cell_type": "markdown",
   "id": "3472220b-dcfa-409d-8334-502302824c82",
   "metadata": {
    "jp-MarkdownHeadingCollapsed": true
   },
   "source": [
    "### Product Categories"
   ]
  },
  {
   "cell_type": "code",
   "execution_count": 59,
   "id": "358909bd-dff6-4e97-b772-d8ff79ea4f96",
   "metadata": {},
   "outputs": [
    {
     "name": "stdout",
     "output_type": "stream",
     "text": [
      "<class 'pandas.core.frame.DataFrame'>\n",
      "RangeIndex: 71 entries, 0 to 70\n",
      "Data columns (total 2 columns):\n",
      " #   Column                         Non-Null Count  Dtype \n",
      "---  ------                         --------------  ----- \n",
      " 0   product_category_name          71 non-null     object\n",
      " 1   product_category_name_english  71 non-null     object\n",
      "dtypes: object(2)\n",
      "memory usage: 1.2+ KB\n"
     ]
    }
   ],
   "source": [
    "# Product Categories table info\n",
    "product_categories.info()"
   ]
  },
  {
   "cell_type": "code",
   "execution_count": 60,
   "id": "85bcce91-cd49-4d24-bd1d-3da092f90465",
   "metadata": {},
   "outputs": [
    {
     "name": "stdout",
     "output_type": "stream",
     "text": [
      "product_category_name            0\n",
      "product_category_name_english    0\n",
      "dtype: int64\n"
     ]
    }
   ],
   "source": [
    "# Check for missing values\n",
    "print(product_categories.isnull().sum())"
   ]
  },
  {
   "cell_type": "code",
   "execution_count": 61,
   "id": "4ca99f12-87a8-4155-af55-4a8dc9c6f4a1",
   "metadata": {},
   "outputs": [
    {
     "name": "stdout",
     "output_type": "stream",
     "text": [
      "Duplicate product_category_name: 0\n",
      "Duplicate product_category_name_english: 0\n"
     ]
    }
   ],
   "source": [
    "# Check for duplicates\n",
    "print(\"Duplicate product_category_name:\", product_categories['product_category_name'].duplicated().sum())\n",
    "print(\"Duplicate product_category_name_english:\", product_categories['product_category_name_english'].duplicated().sum())"
   ]
  },
  {
   "cell_type": "markdown",
   "id": "c40a471b-1fc5-4fbd-a340-24a16f4fe65a",
   "metadata": {},
   "source": [
    "## EDA"
   ]
  },
  {
   "cell_type": "markdown",
   "id": "20369806-f1c7-4d5a-b9ec-fc9e78d4dc6d",
   "metadata": {
    "jp-MarkdownHeadingCollapsed": true
   },
   "source": [
    "### calculate basic order stats"
   ]
  },
  {
   "cell_type": "code",
   "execution_count": 62,
   "id": "60970920-2351-45af-ad9f-7d471c4ed9e4",
   "metadata": {},
   "outputs": [
    {
     "name": "stdout",
     "output_type": "stream",
     "text": [
      "order_status\n",
      "delivered      96478\n",
      "shipped         1107\n",
      "canceled         625\n",
      "unavailable      609\n",
      "invoiced         314\n",
      "processing       301\n",
      "created            5\n",
      "approved           2\n",
      "Name: count, dtype: int64\n"
     ]
    }
   ],
   "source": [
    "# Number of orders per status\n",
    "order_status_counts = orders['order_status'].value_counts()\n",
    "print(order_status_counts)\n"
   ]
  },
  {
   "cell_type": "code",
   "execution_count": 63,
   "id": "515ae116-56a9-4a86-8333-4bd944514a30",
   "metadata": {},
   "outputs": [
    {
     "name": "stdout",
     "output_type": "stream",
     "text": [
      "Total Revenue: 13591643.700000003\n"
     ]
    }
   ],
   "source": [
    "# Total revenue (from order_items)\n",
    "total_revenue = order_items['price'].sum()\n",
    "print(\"Total Revenue:\", total_revenue)"
   ]
  },
  {
   "cell_type": "code",
   "execution_count": 64,
   "id": "245af0a4-4854-4fde-8668-a6221c72a996",
   "metadata": {},
   "outputs": [
    {
     "name": "stdout",
     "output_type": "stream",
     "text": [
      "Average Order Value: 137.7540763788945\n"
     ]
    }
   ],
   "source": [
    "# Average order value\n",
    "order_totals = order_items.groupby('order_id')['price'].sum()\n",
    "average_order_value = order_totals.mean()\n",
    "print(\"Average Order Value:\", average_order_value)"
   ]
  },
  {
   "cell_type": "markdown",
   "id": "c5666b88-2231-49ae-bebb-c6835da51a54",
   "metadata": {
    "jp-MarkdownHeadingCollapsed": true
   },
   "source": [
    "### analyze delivery performance."
   ]
  },
  {
   "cell_type": "code",
   "execution_count": 65,
   "id": "918a5228-af38-44c2-a852-54bf54acc2e6",
   "metadata": {},
   "outputs": [],
   "source": [
    "# Only delivered orders\n",
    "delivered_orders = orders[orders['order_status'] == 'delivered'].copy()\n"
   ]
  },
  {
   "cell_type": "code",
   "execution_count": 66,
   "id": "7b1feb35-6496-4edd-b2b6-06e873c04707",
   "metadata": {},
   "outputs": [],
   "source": [
    "# Delivery time in days\n",
    "delivered_orders['delivery_time_days'] = (delivered_orders['order_delivered_customer_date'] - delivered_orders['order_purchase_timestamp']).dt.days"
   ]
  },
  {
   "cell_type": "code",
   "execution_count": 67,
   "id": "f21a2df2-1015-4030-bb3b-6fc61820323a",
   "metadata": {},
   "outputs": [
    {
     "name": "stdout",
     "output_type": "stream",
     "text": [
      "count    96470.000000\n",
      "mean        12.093604\n",
      "std          9.551380\n",
      "min          0.000000\n",
      "25%          6.000000\n",
      "50%         10.000000\n",
      "75%         15.000000\n",
      "max        209.000000\n",
      "Name: delivery_time_days, dtype: float64\n"
     ]
    }
   ],
   "source": [
    "# Delivery time stats\n",
    "delivery_stats = delivered_orders['delivery_time_days'].describe()\n",
    "print(delivery_stats)"
   ]
  },
  {
   "cell_type": "code",
   "execution_count": 68,
   "id": "16da7f0f-cbf8-4730-955c-ff9eb0988fc7",
   "metadata": {},
   "outputs": [
    {
     "data": {
      "image/png": "[encoded data removed]",
      "text/plain": [
       "<Figure size 1000x500 with 1 Axes>"
      ]
     },
     "metadata": {},
     "output_type": "display_data"
    }
   ],
   "source": [
    "#plot histogram\n",
    "import matplotlib.pyplot as plt\n",
    "plt.figure(figsize=(10,5))\n",
    "plt.hist(delivered_orders['delivery_time_days'], bins=30, color='skyblue', edgecolor='black')\n",
    "plt.title(\"Delivery Time Distribution\")\n",
    "plt.xlabel(\"Delivery Time (days)\")\n",
    "plt.ylabel(\"Number of Orders\")\n",
    "plt.show()"
   ]
  },
  {
   "cell_type": "code",
   "execution_count": 69,
   "id": "141cf467-4142-4276-8d38-020c3813731e",
   "metadata": {},
   "outputs": [
    {
     "name": "stdout",
     "output_type": "stream",
     "text": [
      "Number of extreme outliers: 288\n"
     ]
    },
    {
     "data": {
      "text/html": [
       "<div>\n",
       "<style scoped>\n",
       "    .dataframe tbody tr th:only-of-type {\n",
       "        vertical-align: middle;\n",
       "    }\n",
       "\n",
       "    .dataframe tbody tr th {\n",
       "        vertical-align: top;\n",
       "    }\n",
       "\n",
       "    .dataframe thead th {\n",
       "        text-align: right;\n",
       "    }\n",
       "</style>\n",
       "<table border=\"1\" class=\"dataframe\">\n",
       "  <thead>\n",
       "    <tr style=\"text-align: right;\">\n",
       "      <th></th>\n",
       "      <th>order_id</th>\n",
       "      <th>delivery_time_days</th>\n",
       "    </tr>\n",
       "  </thead>\n",
       "  <tbody>\n",
       "    <tr>\n",
       "      <th>252</th>\n",
       "      <td>f31535f21d145b2345e2bf7f09d62322</td>\n",
       "      <td>81.0</td>\n",
       "    </tr>\n",
       "    <tr>\n",
       "      <th>658</th>\n",
       "      <td>cafc9b2f7d35ec42bdb74347cc6e8a70</td>\n",
       "      <td>75.0</td>\n",
       "    </tr>\n",
       "    <tr>\n",
       "      <th>1536</th>\n",
       "      <td>b5195225c11fc325d686d24fe14eedbb</td>\n",
       "      <td>66.0</td>\n",
       "    </tr>\n",
       "    <tr>\n",
       "      <th>1563</th>\n",
       "      <td>56af0400ccac703cca01cd9846d29c58</td>\n",
       "      <td>74.0</td>\n",
       "    </tr>\n",
       "    <tr>\n",
       "      <th>1621</th>\n",
       "      <td>a4efaffc506a395c9cea7402b078c1e5</td>\n",
       "      <td>110.0</td>\n",
       "    </tr>\n",
       "    <tr>\n",
       "      <th>2619</th>\n",
       "      <td>a69ddc335f989aa05576bc19f8b9a549</td>\n",
       "      <td>89.0</td>\n",
       "    </tr>\n",
       "    <tr>\n",
       "      <th>2852</th>\n",
       "      <td>dd501072091c950a1e6bb5ea9182df2a</td>\n",
       "      <td>63.0</td>\n",
       "    </tr>\n",
       "    <tr>\n",
       "      <th>3077</th>\n",
       "      <td>8b7fd198ad184563c231653673e75a7f</td>\n",
       "      <td>105.0</td>\n",
       "    </tr>\n",
       "    <tr>\n",
       "      <th>3202</th>\n",
       "      <td>4f39a94d6e474819d898d6df7d394996</td>\n",
       "      <td>143.0</td>\n",
       "    </tr>\n",
       "    <tr>\n",
       "      <th>3952</th>\n",
       "      <td>039ec885e36627ae6353cfd42a41c5da</td>\n",
       "      <td>70.0</td>\n",
       "    </tr>\n",
       "  </tbody>\n",
       "</table>\n",
       "</div>"
      ],
      "text/plain": [
       "                              order_id  delivery_time_days\n",
       "252   f31535f21d145b2345e2bf7f09d62322                81.0\n",
       "658   cafc9b2f7d35ec42bdb74347cc6e8a70                75.0\n",
       "1536  b5195225c11fc325d686d24fe14eedbb                66.0\n",
       "1563  56af0400ccac703cca01cd9846d29c58                74.0\n",
       "1621  a4efaffc506a395c9cea7402b078c1e5               110.0\n",
       "2619  a69ddc335f989aa05576bc19f8b9a549                89.0\n",
       "2852  dd501072091c950a1e6bb5ea9182df2a                63.0\n",
       "3077  8b7fd198ad184563c231653673e75a7f               105.0\n",
       "3202  4f39a94d6e474819d898d6df7d394996               143.0\n",
       "3952  039ec885e36627ae6353cfd42a41c5da                70.0"
      ]
     },
     "execution_count": 69,
     "metadata": {},
     "output_type": "execute_result"
    }
   ],
   "source": [
    "#identify and handle outliers in delivery times.\n",
    "outliers = delivered_orders[delivered_orders['delivery_time_days'] > 60]\n",
    "print(\"Number of extreme outliers:\", len(outliers))\n",
    "outliers[['order_id','delivery_time_days']].head(10)"
   ]
  },
  {
   "cell_type": "code",
   "execution_count": 70,
   "id": "642b1b3a-6d73-4a8e-8e80-6eb8206e986f",
   "metadata": {},
   "outputs": [],
   "source": [
    "# Cap delivery time at 60 days\n",
    "delivered_orders['delivery_time_days_capped'] = delivered_orders['delivery_time_days'].clip(upper=60)\n"
   ]
  },
  {
   "cell_type": "code",
   "execution_count": 71,
   "id": "c28c4f02-de5b-471a-aa3c-efff44bdf78d",
   "metadata": {},
   "outputs": [
    {
     "name": "stdout",
     "output_type": "stream",
     "text": [
      "count    96470.000000\n",
      "mean        12.010200\n",
      "std          8.792136\n",
      "min          0.000000\n",
      "25%          6.000000\n",
      "50%         10.000000\n",
      "75%         15.000000\n",
      "max         60.000000\n",
      "Name: delivery_time_days_capped, dtype: float64\n"
     ]
    }
   ],
   "source": [
    "# Check new stats\n",
    "print(delivered_orders['delivery_time_days_capped'].describe())"
   ]
  },
  {
   "cell_type": "code",
   "execution_count": 72,
   "id": "ac5918c5-00ea-4ae9-9fa9-ed01df2a6223",
   "metadata": {},
   "outputs": [
    {
     "name": "stdout",
     "output_type": "stream",
     "text": [
      "order_status\n",
      "delivered    12.0102\n",
      "Name: delivery_time_days_capped, dtype: float64\n"
     ]
    }
   ],
   "source": [
    "#analyze delivery performance by order status.\n",
    "avg_delivery_by_status = delivered_orders.groupby('order_status')['delivery_time_days_capped'].mean().sort_values()\n",
    "print(avg_delivery_by_status)\n"
   ]
  },
  {
   "cell_type": "code",
   "execution_count": 73,
   "id": "5a837f0f-e3f7-4404-a34c-909d6487bee1",
   "metadata": {},
   "outputs": [],
   "source": [
    "#analyze revenue by order status.\n",
    "# Merge orders with order_items\n",
    "orders_items_merged = orders.merge(order_items, on='order_id', how='left')\n"
   ]
  },
  {
   "cell_type": "code",
   "execution_count": 74,
   "id": "c62bb58b-81de-4321-a868-fb471100ca6f",
   "metadata": {},
   "outputs": [
    {
     "name": "stdout",
     "output_type": "stream",
     "text": [
      "order_status\n",
      "delivered      13221498.11\n",
      "shipped          150727.44\n",
      "canceled          95235.27\n",
      "invoiced          61526.37\n",
      "processing        60439.22\n",
      "unavailable        2007.69\n",
      "approved            209.60\n",
      "created               0.00\n",
      "Name: price, dtype: float64\n"
     ]
    }
   ],
   "source": [
    "# Calculate total revenue by order_status\n",
    "revenue_by_status = orders_items_merged.groupby('order_status')['price'].sum().sort_values(ascending=False)\n",
    "print(revenue_by_status)"
   ]
  },
  {
   "cell_type": "code",
   "execution_count": 75,
   "id": "91118edc-dbc6-4119-952d-f2662680b07c",
   "metadata": {},
   "outputs": [
    {
     "name": "stdout",
     "output_type": "stream",
     "text": [
      "order_status\n",
      "unavailable    286.812857\n",
      "canceled       175.710830\n",
      "invoiced       171.382646\n",
      "processing     169.297535\n",
      "shipped        127.196152\n",
      "delivered      119.980563\n",
      "approved        69.866667\n",
      "created               NaN\n",
      "Name: price, dtype: float64\n"
     ]
    }
   ],
   "source": [
    "#calculate Average Order Value (AOV) per order_status.\n",
    "aov_by_status = orders_items_merged.groupby('order_status')['price'].mean().sort_values(ascending=False)\n",
    "print(aov_by_status)"
   ]
  },
  {
   "cell_type": "code",
   "execution_count": 76,
   "id": "a58d2864-6494-426a-89d1-6eae6ae9d409",
   "metadata": {},
   "outputs": [],
   "source": [
    "#average delivery time per state.\n",
    "# Merge orders with customers to get the state\n",
    "orders_customers = orders.merge(customers[['customer_id', 'customer_state']], on='customer_id', how='left')"
   ]
  },
  {
   "cell_type": "code",
   "execution_count": 77,
   "id": "f5cdfd11-ec5d-4d4a-bb3f-46cc9529a82b",
   "metadata": {},
   "outputs": [],
   "source": [
    "# Filter only delivered orders\n",
    "delivered_orders = orders_customers[orders_customers['order_status'] == 'delivered'].copy()"
   ]
  },
  {
   "cell_type": "code",
   "execution_count": 78,
   "id": "c6583b08-f282-4e67-ae7e-6203cb9449e5",
   "metadata": {},
   "outputs": [],
   "source": [
    "# Calculate delivery time in days\n",
    "delivered_orders['delivery_time_days'] = (delivered_orders['order_delivered_customer_date'] - delivered_orders['order_purchase_timestamp']).dt.days"
   ]
  },
  {
   "cell_type": "code",
   "execution_count": 79,
   "id": "6a800758-3997-4100-b860-95f55f70f506",
   "metadata": {},
   "outputs": [
    {
     "name": "stdout",
     "output_type": "stream",
     "text": [
      "customer_state\n",
      "SP     8.298094\n",
      "PR    11.526711\n",
      "MG    11.542188\n",
      "DF    12.509135\n",
      "SC    14.475183\n",
      "RS    14.819237\n",
      "RJ    14.848583\n",
      "GO    15.150741\n",
      "MS    15.191155\n",
      "ES    15.331830\n",
      "TO    17.226277\n",
      "MT    17.593679\n",
      "PE    17.965474\n",
      "RN    18.824895\n",
      "BA    18.866400\n",
      "RO    18.913580\n",
      "PI    18.993697\n",
      "PB    19.953578\n",
      "AC    20.637500\n",
      "CE    20.817826\n",
      "SE    21.029851\n",
      "MA    21.117155\n",
      "PA    23.316068\n",
      "AL    24.040302\n",
      "AM    25.986207\n",
      "AP    26.731343\n",
      "RR    28.975610\n",
      "Name: delivery_time_days, dtype: float64\n"
     ]
    }
   ],
   "source": [
    "# Average delivery time per state\n",
    "avg_delivery_by_state = delivered_orders.groupby('customer_state')['delivery_time_days'].mean().sort_values()\n",
    "print(avg_delivery_by_state)"
   ]
  },
  {
   "cell_type": "markdown",
   "id": "4cc1ffed-5186-4baa-a433-54dd0267e2f8",
   "metadata": {
    "jp-MarkdownHeadingCollapsed": true
   },
   "source": [
    "### Product Categories Performance"
   ]
  },
  {
   "cell_type": "code",
   "execution_count": 80,
   "id": "f7c8d182-4ecd-4f6b-a1d5-bf3c1ac854a1",
   "metadata": {},
   "outputs": [],
   "source": [
    "#top 5 product categories by total revenue.\n",
    "# Merge order_items with products to get product_category_name\n",
    "order_items_products = order_items.merge(products[['product_id', 'product_category_name']], on='product_id', how='left')"
   ]
  },
  {
   "cell_type": "code",
   "execution_count": 81,
   "id": "7f9e6183-8db4-48ff-be22-3e4053124c48",
   "metadata": {},
   "outputs": [],
   "source": [
    "# Total revenue per category\n",
    "revenue_by_category = order_items_products.groupby('product_category_name')['price'].sum().sort_values(ascending=False)"
   ]
  },
  {
   "cell_type": "code",
   "execution_count": 82,
   "id": "c1c8a134-4f89-423b-ba3b-4c76a16f0c10",
   "metadata": {},
   "outputs": [
    {
     "name": "stdout",
     "output_type": "stream",
     "text": [
      "product_category_name\n",
      "beleza_saude              1258681.34\n",
      "relogios_presentes        1205005.68\n",
      "cama_mesa_banho           1036988.68\n",
      "esporte_lazer              988048.97\n",
      "informatica_acessorios     911954.32\n",
      "Name: price, dtype: float64\n"
     ]
    }
   ],
   "source": [
    "# Top 5 categories\n",
    "top5_categories = revenue_by_category.head(5)\n",
    "print(top5_categories)"
   ]
  },
  {
   "cell_type": "code",
   "execution_count": 83,
   "id": "4826db7a-59be-4e06-8d7d-00fdae3c8393",
   "metadata": {},
   "outputs": [],
   "source": [
    "#top 5 products by total revenue.\n",
    "# Total revenue per product\n",
    "revenue_by_product = order_items.groupby('product_id')['price'].sum().sort_values(ascending=False)"
   ]
  },
  {
   "cell_type": "code",
   "execution_count": 84,
   "id": "790d2394-8a04-41fc-8e69-1238b340c3ae",
   "metadata": {},
   "outputs": [
    {
     "name": "stdout",
     "output_type": "stream",
     "text": [
      "                         product_id     price   product_category_name\n",
      "0  bb50f2e236e5eea0100680137654686c  63885.00            beleza_saude\n",
      "1  6cdd53843498f92890544667809f1595  54730.20            beleza_saude\n",
      "2  d6160fb7873f184099d9bc95e30376af  48899.34                     pcs\n",
      "3  d1c427060a0f73f6b889a5c7c61f2ac4  47214.51  informatica_acessorios\n",
      "4  99a4788cb24856965c36a24e339b6058  43025.56         cama_mesa_banho\n"
     ]
    }
   ],
   "source": [
    "# Merge with products to get product names\n",
    "top5_products = revenue_by_product.head(5).reset_index().merge(products[['product_id', 'product_category_name']], on='product_id', how='left')\n",
    "print(top5_products)\n"
   ]
  },
  {
   "cell_type": "code",
   "execution_count": 85,
   "id": "d42bd393-ef46-457d-a64c-e5ca82aebd47",
   "metadata": {},
   "outputs": [],
   "source": [
    "# Top 5 product categories by total revenue.\n",
    "# Merge order_items with products to get categories\n",
    "order_items_products = order_items.merge(products[['product_id', 'product_category_name']], on='product_id', how='left')"
   ]
  },
  {
   "cell_type": "code",
   "execution_count": 86,
   "id": "5c7c51f4-7329-424a-b29f-2a7e946bd05a",
   "metadata": {},
   "outputs": [],
   "source": [
    "# Total revenue per category\n",
    "revenue_by_category = order_items_products.groupby('product_category_name')['price'].sum().sort_values(ascending=False)"
   ]
  },
  {
   "cell_type": "code",
   "execution_count": 87,
   "id": "279ce9a4-c812-4dd7-bc23-1f4a8c1a53af",
   "metadata": {},
   "outputs": [
    {
     "name": "stdout",
     "output_type": "stream",
     "text": [
      "product_category_name\n",
      "beleza_saude              1258681.34\n",
      "relogios_presentes        1205005.68\n",
      "cama_mesa_banho           1036988.68\n",
      "esporte_lazer              988048.97\n",
      "informatica_acessorios     911954.32\n",
      "Name: price, dtype: float64\n"
     ]
    }
   ],
   "source": [
    "# Top 5 categories\n",
    "top5_categories = revenue_by_category.head(5)\n",
    "print(top5_categories)"
   ]
  },
  {
   "cell_type": "code",
   "execution_count": 88,
   "id": "adf42cf0-2da4-4b75-bbc9-281d74858ed7",
   "metadata": {},
   "outputs": [
    {
     "name": "stdout",
     "output_type": "stream",
     "text": [
      "                              product_id   price  product_category_name\n",
      "3556    489ae2aa008f021502940f251d4cce7f  6735.0  utilidades_domesticas\n",
      "112233  69c590f7ffc7bf8db97190b6cb6ed62e  6729.0                    pcs\n",
      "107841  1bdf5e6731585cf01aa8169c7028d6ad  6499.0                  artes\n",
      "74336   a6492cc69376c469ab6f61d8f44de961  4799.0        eletroportateis\n",
      "11249   c3ed642d592594bb648ff4a04cee2747  4690.0        eletroportateis\n"
     ]
    }
   ],
   "source": [
    "#Top 5 most expensive individual products.\n",
    "top5_products = order_items_products[['product_id', 'price', 'product_category_name']].sort_values(by='price', ascending=False).head(5)\n",
    "print(top5_products)\n"
   ]
  },
  {
   "cell_type": "code",
   "execution_count": 89,
   "id": "b3d46124-e682-4971-81c8-e5eb863ad8ff",
   "metadata": {},
   "outputs": [
    {
     "name": "stdout",
     "output_type": "stream",
     "text": [
      "product_category_name\n",
      "beleza_saude              1258681.34\n",
      "relogios_presentes        1205005.68\n",
      "cama_mesa_banho           1036988.68\n",
      "esporte_lazer              988048.97\n",
      "informatica_acessorios     911954.32\n",
      "Name: price, dtype: float64\n"
     ]
    }
   ],
   "source": [
    "# Top 5 categories by total revenue.\n",
    "category_revenue = order_items_products.groupby('product_category_name')['price'].sum().sort_values(ascending=False).head(5)\n",
    "print(category_revenue)"
   ]
  },
  {
   "cell_type": "code",
   "execution_count": 90,
   "id": "ee01b18e-9500-42e5-9c9b-10643d22701a",
   "metadata": {},
   "outputs": [
    {
     "name": "stdout",
     "output_type": "stream",
     "text": [
      "                              product_id   price  product_category_name\n",
      "3556    489ae2aa008f021502940f251d4cce7f  6735.0  utilidades_domesticas\n",
      "112233  69c590f7ffc7bf8db97190b6cb6ed62e  6729.0                    pcs\n",
      "107841  1bdf5e6731585cf01aa8169c7028d6ad  6499.0                  artes\n",
      "74336   a6492cc69376c469ab6f61d8f44de961  4799.0        eletroportateis\n",
      "11249   c3ed642d592594bb648ff4a04cee2747  4690.0        eletroportateis\n"
     ]
    }
   ],
   "source": [
    "#Top 5 most expensive products.\n",
    "top5_expensive = order_items_products[['product_id', 'price', 'product_category_name']].sort_values(by='price', ascending=False).head(5)\n",
    "print(top5_expensive)\n"
   ]
  },
  {
   "cell_type": "code",
   "execution_count": 91,
   "id": "4395e331-be04-4da6-a35a-193356568b25",
   "metadata": {},
   "outputs": [
    {
     "name": "stdout",
     "output_type": "stream",
     "text": [
      "product_category_name\n",
      "beleza_saude              1258681.34\n",
      "relogios_presentes        1205005.68\n",
      "cama_mesa_banho           1036988.68\n",
      "esporte_lazer              988048.97\n",
      "informatica_acessorios     911954.32\n",
      "moveis_decoracao           729762.49\n",
      "cool_stuff                 635290.85\n",
      "utilidades_domesticas      632248.66\n",
      "automotivo                 592720.11\n",
      "ferramentas_jardim         485256.46\n",
      "Name: price, dtype: float64\n"
     ]
    }
   ],
   "source": [
    "#Check total revenue by product category.\n",
    "revenue_by_category = order_items_products.groupby('product_category_name')['price'].sum().sort_values(ascending=False)\n",
    "print(revenue_by_category.head(10))\n"
   ]
  },
  {
   "cell_type": "code",
   "execution_count": 92,
   "id": "076b8b70-2107-4428-b960-c3695e0f7e53",
   "metadata": {},
   "outputs": [
    {
     "name": "stdout",
     "output_type": "stream",
     "text": [
      "                              product_id   price  product_category_name\n",
      "3556    489ae2aa008f021502940f251d4cce7f  6735.0  utilidades_domesticas\n",
      "112233  69c590f7ffc7bf8db97190b6cb6ed62e  6729.0                    pcs\n",
      "107841  1bdf5e6731585cf01aa8169c7028d6ad  6499.0                  artes\n",
      "74336   a6492cc69376c469ab6f61d8f44de961  4799.0        eletroportateis\n",
      "11249   c3ed642d592594bb648ff4a04cee2747  4690.0        eletroportateis\n"
     ]
    }
   ],
   "source": [
    "top_expensive_products = order_items_products[['product_id','price','product_category_name']].sort_values(by='price', ascending=False).head(5)\n",
    "print(top_expensive_products)\n"
   ]
  },
  {
   "cell_type": "code",
   "execution_count": 95,
   "id": "094341d3-5666-4438-9ec4-a9565554d126",
   "metadata": {},
   "outputs": [
    {
     "data": {
      "text/plain": [
       "count    112650.000000\n",
       "mean        120.653739\n",
       "std         183.633928\n",
       "min           0.850000\n",
       "25%          39.900000\n",
       "50%          74.990000\n",
       "75%         134.900000\n",
       "max        6735.000000\n",
       "Name: price, dtype: float64"
      ]
     },
     "execution_count": 95,
     "metadata": {},
     "output_type": "execute_result"
    }
   ],
   "source": [
    "#Check the outliers\n",
    "order_items['price'].describe()\n"
   ]
  },
  {
   "cell_type": "code",
   "execution_count": 97,
   "id": "cdad720d-24be-4b09-84b1-90ecf1a91cc7",
   "metadata": {},
   "outputs": [
    {
     "name": "stdout",
     "output_type": "stream",
     "text": [
      "Lower bound: -102.6\n",
      "Upper bound: 277.4\n"
     ]
    }
   ],
   "source": [
    "#Calculate IQR and bounds\n",
    "Q1 = order_items['price'].quantile(0.25)\n",
    "Q3 = order_items['price'].quantile(0.75)\n",
    "IQR = Q3 - Q1\n",
    "\n",
    "lower_bound = Q1 - 1.5 * IQR\n",
    "upper_bound = Q3 + 1.5 * IQR\n",
    "\n",
    "print(\"Lower bound:\", lower_bound)\n",
    "print(\"Upper bound:\", upper_bound)"
   ]
  },
  {
   "cell_type": "code",
   "execution_count": 98,
   "id": "4215dae9-b851-47bb-98e7-97b56bd17ecf",
   "metadata": {},
   "outputs": [],
   "source": [
    "# Cap the prices at the upper bound\n",
    "order_items['price_capped'] = order_items['price'].clip(upper=upper_bound)\n"
   ]
  },
  {
   "cell_type": "code",
   "execution_count": 99,
   "id": "55a1861a-0395-43e8-8f88-4c96bb44e063",
   "metadata": {},
   "outputs": [
    {
     "data": {
      "text/plain": [
       "count    112650.000000\n",
       "mean         98.444222\n",
       "std          75.923244\n",
       "min           0.850000\n",
       "25%          39.900000\n",
       "50%          74.990000\n",
       "75%         134.900000\n",
       "max         277.400000\n",
       "Name: price_capped, dtype: float64"
      ]
     },
     "execution_count": 99,
     "metadata": {},
     "output_type": "execute_result"
    }
   ],
   "source": [
    "# Check the capped price statistics\n",
    "order_items['price_capped'].describe()"
   ]
  },
  {
   "cell_type": "code",
   "execution_count": 101,
   "id": "7bf7642b-9537-4a39-9aaa-f50d4d386088",
   "metadata": {},
   "outputs": [
    {
     "data": {
      "text/plain": [
       "count    112650.000000\n",
       "mean         19.990320\n",
       "std          15.806405\n",
       "min           0.000000\n",
       "25%          13.080000\n",
       "50%          16.260000\n",
       "75%          21.150000\n",
       "max         409.680000\n",
       "Name: freight_value, dtype: float64"
      ]
     },
     "execution_count": 101,
     "metadata": {},
     "output_type": "execute_result"
    }
   ],
   "source": [
    "# Freight Value\n",
    "order_items['freight_value'].describe()"
   ]
  },
  {
   "cell_type": "code",
   "execution_count": 102,
   "id": "5badccd7-7a4b-48bb-b570-e9472856f386",
   "metadata": {},
   "outputs": [
    {
     "name": "stdout",
     "output_type": "stream",
     "text": [
      "Freight Lower bound: 0.9750000000000032\n",
      "Freight Upper bound: 33.254999999999995\n"
     ]
    }
   ],
   "source": [
    "# Calculate IQR\n",
    "Q1 = order_items['freight_value'].quantile(0.25)\n",
    "Q3 = order_items['freight_value'].quantile(0.75)\n",
    "IQR = Q3 - Q1\n",
    "\n",
    "# Calculate bounds\n",
    "lower_bound = Q1 - 1.5 * IQR\n",
    "upper_bound = Q3 + 1.5 * IQR\n",
    "print(\"Freight Lower bound:\", lower_bound)\n",
    "print(\"Freight Upper bound:\", upper_bound)"
   ]
  },
  {
   "cell_type": "code",
   "execution_count": 103,
   "id": "4d18709f-cd9b-417c-a456-7240fbcc9d59",
   "metadata": {},
   "outputs": [
    {
     "data": {
      "text/plain": [
       "count    112650.000000\n",
       "mean         17.821461\n",
       "std           7.424145\n",
       "min           0.975000\n",
       "25%          13.080000\n",
       "50%          16.260000\n",
       "75%          21.150000\n",
       "max          33.255000\n",
       "Name: freight_capped, dtype: float64"
      ]
     },
     "execution_count": 103,
     "metadata": {},
     "output_type": "execute_result"
    }
   ],
   "source": [
    "# Cap freight_value at the calculated bounds\n",
    "order_items['freight_capped'] = order_items['freight_value'].clip(lower=0.975, upper=33.255)\n",
    "\n",
    "# Check the capped statistics\n",
    "order_items['freight_capped'].describe()"
   ]
  },
  {
   "cell_type": "markdown",
   "id": "f818b534-c005-48fa-9abb-64277e230069",
   "metadata": {
    "jp-MarkdownHeadingCollapsed": true
   },
   "source": [
    "### Consolidate Data (Merging Tables)"
   ]
  },
  {
   "cell_type": "code",
   "execution_count": 134,
   "id": "3fcc2f5b-4ee7-474c-a8a1-2bbe3c5a5a5b",
   "metadata": {},
   "outputs": [
    {
     "name": "stdout",
     "output_type": "stream",
     "text": [
      "Orders columns: ['order_id', 'customer_id', 'order_status', 'order_purchase_timestamp', 'order_approved_at', 'order_delivered_carrier_date', 'order_delivered_customer_date', 'order_estimated_delivery_date', 'delivery_missing', 'approval_missing', 'delivery_time_days', 'delivery_time_days_capped']\n",
      "Order items columns: ['order_id', 'order_item_id', 'product_id', 'seller_id', 'shipping_limit_date', 'price', 'freight_value', 'price_capped', 'freight_capped']\n",
      "Products columns: ['product_id', 'product_category_name', 'product_name_lenght', 'product_description_lenght', 'product_photos_qty', 'product_weight_g', 'product_length_cm', 'product_height_cm', 'product_width_cm', 'product_category_name_english']\n",
      "Product category columns: ['product_category_name', 'product_category_name_english']\n"
     ]
    }
   ],
   "source": [
    "#Clean column names\n",
    "# Strip any extra spaces from column names\n",
    "orders.columns = orders.columns.str.strip()\n",
    "order_items.columns = order_items.columns.str.strip()\n",
    "products.columns = products.columns.str.strip()\n",
    "product_category.columns = product_category.columns.str.strip()\n",
    "\n",
    "# Check column names to confirm\n",
    "print(\"Orders columns:\", orders.columns.tolist())\n",
    "print(\"Order items columns:\", order_items.columns.tolist())\n",
    "print(\"Products columns:\", products.columns.tolist())\n",
    "print(\"Product category columns:\", product_category.columns.tolist())\n"
   ]
  },
  {
   "cell_type": "code",
   "execution_count": 135,
   "id": "522c47cd-211f-446d-8ad1-4339c96e33f4",
   "metadata": {},
   "outputs": [
    {
     "data": {
      "text/html": [
       "<div>\n",
       "<style scoped>\n",
       "    .dataframe tbody tr th:only-of-type {\n",
       "        vertical-align: middle;\n",
       "    }\n",
       "\n",
       "    .dataframe tbody tr th {\n",
       "        vertical-align: top;\n",
       "    }\n",
       "\n",
       "    .dataframe thead th {\n",
       "        text-align: right;\n",
       "    }\n",
       "</style>\n",
       "<table border=\"1\" class=\"dataframe\">\n",
       "  <thead>\n",
       "    <tr style=\"text-align: right;\">\n",
       "      <th></th>\n",
       "      <th>order_id</th>\n",
       "      <th>order_item_id</th>\n",
       "      <th>product_id</th>\n",
       "      <th>seller_id</th>\n",
       "      <th>shipping_limit_date</th>\n",
       "      <th>price</th>\n",
       "      <th>freight_value</th>\n",
       "      <th>price_capped</th>\n",
       "      <th>freight_capped</th>\n",
       "      <th>order_status</th>\n",
       "      <th>delivery_time_days_capped</th>\n",
       "    </tr>\n",
       "  </thead>\n",
       "  <tbody>\n",
       "    <tr>\n",
       "      <th>0</th>\n",
       "      <td>00010242fe8c5a6d1ba2dd792cb16214</td>\n",
       "      <td>1</td>\n",
       "      <td>4244733e06e7ecb4970a6e2683c13e61</td>\n",
       "      <td>48436dade18ac8b2bce089ec2a041202</td>\n",
       "      <td>2017-09-19 09:45:35</td>\n",
       "      <td>58.90</td>\n",
       "      <td>13.29</td>\n",
       "      <td>58.90</td>\n",
       "      <td>13.29</td>\n",
       "      <td>delivered</td>\n",
       "      <td>7.0</td>\n",
       "    </tr>\n",
       "    <tr>\n",
       "      <th>1</th>\n",
       "      <td>00018f77f2f0320c557190d7a144bdd3</td>\n",
       "      <td>1</td>\n",
       "      <td>e5f2d52b802189ee658865ca93d83a8f</td>\n",
       "      <td>dd7ddc04e1b6c2c614352b383efe2d36</td>\n",
       "      <td>2017-05-03 11:05:13</td>\n",
       "      <td>239.90</td>\n",
       "      <td>19.93</td>\n",
       "      <td>239.90</td>\n",
       "      <td>19.93</td>\n",
       "      <td>delivered</td>\n",
       "      <td>16.0</td>\n",
       "    </tr>\n",
       "    <tr>\n",
       "      <th>2</th>\n",
       "      <td>000229ec398224ef6ca0657da4fc703e</td>\n",
       "      <td>1</td>\n",
       "      <td>c777355d18b72b67abbeef9df44fd0fd</td>\n",
       "      <td>5b51032eddd242adc84c38acab88f23d</td>\n",
       "      <td>2018-01-18 14:48:30</td>\n",
       "      <td>199.00</td>\n",
       "      <td>17.87</td>\n",
       "      <td>199.00</td>\n",
       "      <td>17.87</td>\n",
       "      <td>delivered</td>\n",
       "      <td>7.0</td>\n",
       "    </tr>\n",
       "    <tr>\n",
       "      <th>3</th>\n",
       "      <td>00024acbcdf0a6daa1e931b038114c75</td>\n",
       "      <td>1</td>\n",
       "      <td>7634da152a4610f1595efa32f14722fc</td>\n",
       "      <td>9d7a1d34a5052409006425275ba1c2b4</td>\n",
       "      <td>2018-08-15 10:10:18</td>\n",
       "      <td>12.99</td>\n",
       "      <td>12.79</td>\n",
       "      <td>12.99</td>\n",
       "      <td>12.79</td>\n",
       "      <td>delivered</td>\n",
       "      <td>6.0</td>\n",
       "    </tr>\n",
       "    <tr>\n",
       "      <th>4</th>\n",
       "      <td>00042b26cf59d7ce69dfabb4e55b4fd9</td>\n",
       "      <td>1</td>\n",
       "      <td>ac6c3623068f30de03045865e4e10089</td>\n",
       "      <td>df560393f3a51e74553ab94004ba5c87</td>\n",
       "      <td>2017-02-13 13:57:51</td>\n",
       "      <td>199.90</td>\n",
       "      <td>18.14</td>\n",
       "      <td>199.90</td>\n",
       "      <td>18.14</td>\n",
       "      <td>delivered</td>\n",
       "      <td>25.0</td>\n",
       "    </tr>\n",
       "  </tbody>\n",
       "</table>\n",
       "</div>"
      ],
      "text/plain": [
       "                           order_id  order_item_id  \\\n",
       "0  00010242fe8c5a6d1ba2dd792cb16214              1   \n",
       "1  00018f77f2f0320c557190d7a144bdd3              1   \n",
       "2  000229ec398224ef6ca0657da4fc703e              1   \n",
       "3  00024acbcdf0a6daa1e931b038114c75              1   \n",
       "4  00042b26cf59d7ce69dfabb4e55b4fd9              1   \n",
       "\n",
       "                         product_id                         seller_id  \\\n",
       "0  4244733e06e7ecb4970a6e2683c13e61  48436dade18ac8b2bce089ec2a041202   \n",
       "1  e5f2d52b802189ee658865ca93d83a8f  dd7ddc04e1b6c2c614352b383efe2d36   \n",
       "2  c777355d18b72b67abbeef9df44fd0fd  5b51032eddd242adc84c38acab88f23d   \n",
       "3  7634da152a4610f1595efa32f14722fc  9d7a1d34a5052409006425275ba1c2b4   \n",
       "4  ac6c3623068f30de03045865e4e10089  df560393f3a51e74553ab94004ba5c87   \n",
       "\n",
       "  shipping_limit_date   price  freight_value  price_capped  freight_capped  \\\n",
       "0 2017-09-19 09:45:35   58.90          13.29         58.90           13.29   \n",
       "1 2017-05-03 11:05:13  239.90          19.93        239.90           19.93   \n",
       "2 2018-01-18 14:48:30  199.00          17.87        199.00           17.87   \n",
       "3 2018-08-15 10:10:18   12.99          12.79         12.99           12.79   \n",
       "4 2017-02-13 13:57:51  199.90          18.14        199.90           18.14   \n",
       "\n",
       "  order_status  delivery_time_days_capped  \n",
       "0    delivered                        7.0  \n",
       "1    delivered                       16.0  \n",
       "2    delivered                        7.0  \n",
       "3    delivered                        6.0  \n",
       "4    delivered                       25.0  "
      ]
     },
     "execution_count": 135,
     "metadata": {},
     "output_type": "execute_result"
    }
   ],
   "source": [
    "# Merge order_items with orders to include order_status and delivery info\n",
    "orders_items_merged = order_items.merge(\n",
    "    orders[['order_id', 'order_status', 'delivery_time_days_capped']],\n",
    "    on='order_id',\n",
    "    how='left'\n",
    ")\n",
    "\n",
    "# Check the merged table\n",
    "orders_items_merged.head()\n"
   ]
  },
  {
   "cell_type": "code",
   "execution_count": 136,
   "id": "18e6207f-ebd8-4e72-9ca0-7842dcb8c079",
   "metadata": {},
   "outputs": [
    {
     "data": {
      "text/html": [
       "<div>\n",
       "<style scoped>\n",
       "    .dataframe tbody tr th:only-of-type {\n",
       "        vertical-align: middle;\n",
       "    }\n",
       "\n",
       "    .dataframe tbody tr th {\n",
       "        vertical-align: top;\n",
       "    }\n",
       "\n",
       "    .dataframe thead th {\n",
       "        text-align: right;\n",
       "    }\n",
       "</style>\n",
       "<table border=\"1\" class=\"dataframe\">\n",
       "  <thead>\n",
       "    <tr style=\"text-align: right;\">\n",
       "      <th></th>\n",
       "      <th>product_id</th>\n",
       "      <th>product_category_name</th>\n",
       "      <th>product_name_lenght</th>\n",
       "      <th>product_description_lenght</th>\n",
       "      <th>product_photos_qty</th>\n",
       "      <th>product_weight_g</th>\n",
       "      <th>product_length_cm</th>\n",
       "      <th>product_height_cm</th>\n",
       "      <th>product_width_cm</th>\n",
       "      <th>product_category_name_english_x</th>\n",
       "      <th>product_category_name_english_y</th>\n",
       "    </tr>\n",
       "  </thead>\n",
       "  <tbody>\n",
       "    <tr>\n",
       "      <th>0</th>\n",
       "      <td>1e9e8ef04dbcff4541ed26657ea517e5</td>\n",
       "      <td>perfumaria</td>\n",
       "      <td>40.0</td>\n",
       "      <td>287.0</td>\n",
       "      <td>1.0</td>\n",
       "      <td>225.0</td>\n",
       "      <td>16.0</td>\n",
       "      <td>10.0</td>\n",
       "      <td>14.0</td>\n",
       "      <td>perfumery</td>\n",
       "      <td>perfumery</td>\n",
       "    </tr>\n",
       "    <tr>\n",
       "      <th>1</th>\n",
       "      <td>3aa071139cb16b67ca9e5dea641aaa2f</td>\n",
       "      <td>artes</td>\n",
       "      <td>44.0</td>\n",
       "      <td>276.0</td>\n",
       "      <td>1.0</td>\n",
       "      <td>1000.0</td>\n",
       "      <td>30.0</td>\n",
       "      <td>18.0</td>\n",
       "      <td>20.0</td>\n",
       "      <td>art</td>\n",
       "      <td>art</td>\n",
       "    </tr>\n",
       "    <tr>\n",
       "      <th>2</th>\n",
       "      <td>96bd76ec8810374ed1b65e291975717f</td>\n",
       "      <td>esporte_lazer</td>\n",
       "      <td>46.0</td>\n",
       "      <td>250.0</td>\n",
       "      <td>1.0</td>\n",
       "      <td>154.0</td>\n",
       "      <td>18.0</td>\n",
       "      <td>9.0</td>\n",
       "      <td>15.0</td>\n",
       "      <td>sports_leisure</td>\n",
       "      <td>sports_leisure</td>\n",
       "    </tr>\n",
       "    <tr>\n",
       "      <th>3</th>\n",
       "      <td>cef67bcfe19066a932b7673e239eb23d</td>\n",
       "      <td>bebes</td>\n",
       "      <td>27.0</td>\n",
       "      <td>261.0</td>\n",
       "      <td>1.0</td>\n",
       "      <td>371.0</td>\n",
       "      <td>26.0</td>\n",
       "      <td>4.0</td>\n",
       "      <td>26.0</td>\n",
       "      <td>baby</td>\n",
       "      <td>baby</td>\n",
       "    </tr>\n",
       "    <tr>\n",
       "      <th>4</th>\n",
       "      <td>9dc1a7de274444849c219cff195d0b71</td>\n",
       "      <td>utilidades_domesticas</td>\n",
       "      <td>37.0</td>\n",
       "      <td>402.0</td>\n",
       "      <td>4.0</td>\n",
       "      <td>625.0</td>\n",
       "      <td>20.0</td>\n",
       "      <td>17.0</td>\n",
       "      <td>13.0</td>\n",
       "      <td>housewares</td>\n",
       "      <td>housewares</td>\n",
       "    </tr>\n",
       "  </tbody>\n",
       "</table>\n",
       "</div>"
      ],
      "text/plain": [
       "                         product_id  product_category_name  \\\n",
       "0  1e9e8ef04dbcff4541ed26657ea517e5             perfumaria   \n",
       "1  3aa071139cb16b67ca9e5dea641aaa2f                  artes   \n",
       "2  96bd76ec8810374ed1b65e291975717f          esporte_lazer   \n",
       "3  cef67bcfe19066a932b7673e239eb23d                  bebes   \n",
       "4  9dc1a7de274444849c219cff195d0b71  utilidades_domesticas   \n",
       "\n",
       "   product_name_lenght  product_description_lenght  product_photos_qty  \\\n",
       "0                 40.0                       287.0                 1.0   \n",
       "1                 44.0                       276.0                 1.0   \n",
       "2                 46.0                       250.0                 1.0   \n",
       "3                 27.0                       261.0                 1.0   \n",
       "4                 37.0                       402.0                 4.0   \n",
       "\n",
       "   product_weight_g  product_length_cm  product_height_cm  product_width_cm  \\\n",
       "0             225.0               16.0               10.0              14.0   \n",
       "1            1000.0               30.0               18.0              20.0   \n",
       "2             154.0               18.0                9.0              15.0   \n",
       "3             371.0               26.0                4.0              26.0   \n",
       "4             625.0               20.0               17.0              13.0   \n",
       "\n",
       "  product_category_name_english_x product_category_name_english_y  \n",
       "0                       perfumery                       perfumery  \n",
       "1                             art                             art  \n",
       "2                  sports_leisure                  sports_leisure  \n",
       "3                            baby                            baby  \n",
       "4                      housewares                      housewares  "
      ]
     },
     "execution_count": 136,
     "metadata": {},
     "output_type": "execute_result"
    }
   ],
   "source": [
    "# Merge products with product_category to get English names if needed\n",
    "products_merged = products.merge(\n",
    "    product_category,  # your product_category dataframe\n",
    "    on='product_category_name',\n",
    "    how='left'\n",
    ")\n",
    "\n",
    "# Check the merged table\n",
    "products_merged.head()"
   ]
  },
  {
   "cell_type": "code",
   "execution_count": 137,
   "id": "7709044a-cb3c-4a05-9e11-45d9563f0445",
   "metadata": {},
   "outputs": [
    {
     "data": {
      "text/html": [
       "<div>\n",
       "<style scoped>\n",
       "    .dataframe tbody tr th:only-of-type {\n",
       "        vertical-align: middle;\n",
       "    }\n",
       "\n",
       "    .dataframe tbody tr th {\n",
       "        vertical-align: top;\n",
       "    }\n",
       "\n",
       "    .dataframe thead th {\n",
       "        text-align: right;\n",
       "    }\n",
       "</style>\n",
       "<table border=\"1\" class=\"dataframe\">\n",
       "  <thead>\n",
       "    <tr style=\"text-align: right;\">\n",
       "      <th></th>\n",
       "      <th>order_id</th>\n",
       "      <th>order_item_id</th>\n",
       "      <th>product_id</th>\n",
       "      <th>seller_id</th>\n",
       "      <th>shipping_limit_date</th>\n",
       "      <th>price</th>\n",
       "      <th>freight_value</th>\n",
       "      <th>price_capped</th>\n",
       "      <th>freight_capped</th>\n",
       "      <th>order_status</th>\n",
       "      <th>delivery_time_days_capped</th>\n",
       "      <th>product_category_name</th>\n",
       "    </tr>\n",
       "  </thead>\n",
       "  <tbody>\n",
       "    <tr>\n",
       "      <th>0</th>\n",
       "      <td>00010242fe8c5a6d1ba2dd792cb16214</td>\n",
       "      <td>1</td>\n",
       "      <td>4244733e06e7ecb4970a6e2683c13e61</td>\n",
       "      <td>48436dade18ac8b2bce089ec2a041202</td>\n",
       "      <td>2017-09-19 09:45:35</td>\n",
       "      <td>58.90</td>\n",
       "      <td>13.29</td>\n",
       "      <td>58.90</td>\n",
       "      <td>13.29</td>\n",
       "      <td>delivered</td>\n",
       "      <td>7.0</td>\n",
       "      <td>cool_stuff</td>\n",
       "    </tr>\n",
       "    <tr>\n",
       "      <th>1</th>\n",
       "      <td>00018f77f2f0320c557190d7a144bdd3</td>\n",
       "      <td>1</td>\n",
       "      <td>e5f2d52b802189ee658865ca93d83a8f</td>\n",
       "      <td>dd7ddc04e1b6c2c614352b383efe2d36</td>\n",
       "      <td>2017-05-03 11:05:13</td>\n",
       "      <td>239.90</td>\n",
       "      <td>19.93</td>\n",
       "      <td>239.90</td>\n",
       "      <td>19.93</td>\n",
       "      <td>delivered</td>\n",
       "      <td>16.0</td>\n",
       "      <td>pet_shop</td>\n",
       "    </tr>\n",
       "    <tr>\n",
       "      <th>2</th>\n",
       "      <td>000229ec398224ef6ca0657da4fc703e</td>\n",
       "      <td>1</td>\n",
       "      <td>c777355d18b72b67abbeef9df44fd0fd</td>\n",
       "      <td>5b51032eddd242adc84c38acab88f23d</td>\n",
       "      <td>2018-01-18 14:48:30</td>\n",
       "      <td>199.00</td>\n",
       "      <td>17.87</td>\n",
       "      <td>199.00</td>\n",
       "      <td>17.87</td>\n",
       "      <td>delivered</td>\n",
       "      <td>7.0</td>\n",
       "      <td>moveis_decoracao</td>\n",
       "    </tr>\n",
       "    <tr>\n",
       "      <th>3</th>\n",
       "      <td>00024acbcdf0a6daa1e931b038114c75</td>\n",
       "      <td>1</td>\n",
       "      <td>7634da152a4610f1595efa32f14722fc</td>\n",
       "      <td>9d7a1d34a5052409006425275ba1c2b4</td>\n",
       "      <td>2018-08-15 10:10:18</td>\n",
       "      <td>12.99</td>\n",
       "      <td>12.79</td>\n",
       "      <td>12.99</td>\n",
       "      <td>12.79</td>\n",
       "      <td>delivered</td>\n",
       "      <td>6.0</td>\n",
       "      <td>perfumaria</td>\n",
       "    </tr>\n",
       "    <tr>\n",
       "      <th>4</th>\n",
       "      <td>00042b26cf59d7ce69dfabb4e55b4fd9</td>\n",
       "      <td>1</td>\n",
       "      <td>ac6c3623068f30de03045865e4e10089</td>\n",
       "      <td>df560393f3a51e74553ab94004ba5c87</td>\n",
       "      <td>2017-02-13 13:57:51</td>\n",
       "      <td>199.90</td>\n",
       "      <td>18.14</td>\n",
       "      <td>199.90</td>\n",
       "      <td>18.14</td>\n",
       "      <td>delivered</td>\n",
       "      <td>25.0</td>\n",
       "      <td>ferramentas_jardim</td>\n",
       "    </tr>\n",
       "  </tbody>\n",
       "</table>\n",
       "</div>"
      ],
      "text/plain": [
       "                           order_id  order_item_id  \\\n",
       "0  00010242fe8c5a6d1ba2dd792cb16214              1   \n",
       "1  00018f77f2f0320c557190d7a144bdd3              1   \n",
       "2  000229ec398224ef6ca0657da4fc703e              1   \n",
       "3  00024acbcdf0a6daa1e931b038114c75              1   \n",
       "4  00042b26cf59d7ce69dfabb4e55b4fd9              1   \n",
       "\n",
       "                         product_id                         seller_id  \\\n",
       "0  4244733e06e7ecb4970a6e2683c13e61  48436dade18ac8b2bce089ec2a041202   \n",
       "1  e5f2d52b802189ee658865ca93d83a8f  dd7ddc04e1b6c2c614352b383efe2d36   \n",
       "2  c777355d18b72b67abbeef9df44fd0fd  5b51032eddd242adc84c38acab88f23d   \n",
       "3  7634da152a4610f1595efa32f14722fc  9d7a1d34a5052409006425275ba1c2b4   \n",
       "4  ac6c3623068f30de03045865e4e10089  df560393f3a51e74553ab94004ba5c87   \n",
       "\n",
       "  shipping_limit_date   price  freight_value  price_capped  freight_capped  \\\n",
       "0 2017-09-19 09:45:35   58.90          13.29         58.90           13.29   \n",
       "1 2017-05-03 11:05:13  239.90          19.93        239.90           19.93   \n",
       "2 2018-01-18 14:48:30  199.00          17.87        199.00           17.87   \n",
       "3 2018-08-15 10:10:18   12.99          12.79         12.99           12.79   \n",
       "4 2017-02-13 13:57:51  199.90          18.14        199.90           18.14   \n",
       "\n",
       "  order_status  delivery_time_days_capped product_category_name  \n",
       "0    delivered                        7.0            cool_stuff  \n",
       "1    delivered                       16.0              pet_shop  \n",
       "2    delivered                        7.0      moveis_decoracao  \n",
       "3    delivered                        6.0            perfumaria  \n",
       "4    delivered                       25.0    ferramentas_jardim  "
      ]
     },
     "execution_count": 137,
     "metadata": {},
     "output_type": "execute_result"
    }
   ],
   "source": [
    "# Merge the product info into order items\n",
    "orders_items_with_category = orders_items_merged.merge(\n",
    "    products_merged[['product_id', 'product_category_name']],\n",
    "    on='product_id',\n",
    "    how='left'\n",
    ")\n",
    "\n",
    "# Check the final merged table\n",
    "orders_items_with_category.head()"
   ]
  },
  {
   "cell_type": "code",
   "execution_count": 147,
   "id": "2a67c272-6f72-48d5-b575-ff9384b3970f",
   "metadata": {},
   "outputs": [
    {
     "data": {
      "text/plain": [
       "['order_id',\n",
       " 'order_item_id',\n",
       " 'product_id',\n",
       " 'seller_id',\n",
       " 'shipping_limit_date',\n",
       " 'price',\n",
       " 'freight_value',\n",
       " 'price_capped',\n",
       " 'freight_capped',\n",
       " 'customer_id',\n",
       " 'order_status',\n",
       " 'delivery_time_days_capped',\n",
       " 'product_category_name']"
      ]
     },
     "execution_count": 147,
     "metadata": {},
     "output_type": "execute_result"
    }
   ],
   "source": [
    "# Merge order_items with orders to include customer_id, order_status, and delivery info\n",
    "orders_items_merged = order_items.merge(\n",
    "    orders[['order_id', 'customer_id', 'order_status', 'delivery_time_days_capped']],\n",
    "    on='order_id',\n",
    "    how='left'\n",
    ")\n",
    "\n",
    "# Merge products to get category\n",
    "orders_items_with_category = orders_items_merged.merge(\n",
    "    products[['product_id', 'product_category_name']],\n",
    "    on='product_id',\n",
    "    how='left'\n",
    ")\n",
    "\n",
    "# Check columns\n",
    "orders_items_with_category.columns.tolist()\n"
   ]
  },
  {
   "cell_type": "markdown",
   "id": "2717894f-63a3-4f73-b563-3b6109270074",
   "metadata": {
    "jp-MarkdownHeadingCollapsed": true
   },
   "source": [
    "## Analysis"
   ]
  },
  {
   "cell_type": "code",
   "execution_count": 138,
   "id": "996d61a1-2a9c-4930-89e8-e390245daec9",
   "metadata": {},
   "outputs": [
    {
     "data": {
      "text/plain": [
       "order_status\n",
       "delivered      10817041.44\n",
       "shipped          120817.73\n",
       "canceled          61835.99\n",
       "processing        45631.68\n",
       "invoiced          43141.63\n",
       "unavailable        1063.59\n",
       "approved            209.60\n",
       "Name: price_capped, dtype: float64"
      ]
     },
     "execution_count": 138,
     "metadata": {},
     "output_type": "execute_result"
    }
   ],
   "source": [
    "#Total Revenue per Order Status\n",
    "revenue_by_status = orders_items_with_category.groupby('order_status')['price_capped'].sum().sort_values(ascending=False)\n",
    "revenue_by_status\n"
   ]
  },
  {
   "cell_type": "code",
   "execution_count": 139,
   "id": "66cd3ee4-9a29-42e9-b93c-ad4b412fc923",
   "metadata": {},
   "outputs": [
    {
     "data": {
      "text/plain": [
       "order_status\n",
       "approved             NaN\n",
       "canceled       18.000000\n",
       "delivered      11.928033\n",
       "invoiced             NaN\n",
       "processing           NaN\n",
       "shipped              NaN\n",
       "unavailable          NaN\n",
       "Name: delivery_time_days_capped, dtype: float64"
      ]
     },
     "execution_count": 139,
     "metadata": {},
     "output_type": "execute_result"
    }
   ],
   "source": [
    "#Average Delivery Time per Order Status\n",
    "avg_delivery_status = orders_items_with_category.groupby('order_status')['delivery_time_days_capped'].mean()\n",
    "avg_delivery_status\n"
   ]
  },
  {
   "cell_type": "code",
   "execution_count": 141,
   "id": "8f77d555-631d-4c3c-a7d2-c7cf5d50ae63",
   "metadata": {},
   "outputs": [
    {
     "data": {
      "text/plain": [
       "product_id\n",
       "bb50f2e236e5eea0100680137654686c    54093.00\n",
       "d1c427060a0f73f6b889a5c7c61f2ac4    47214.51\n",
       "6cdd53843498f92890544667809f1595    43274.40\n",
       "99a4788cb24856965c36a24e339b6058    43025.56\n",
       "3dd2a17168ec895c781a9191c1e95ad7    41082.60\n",
       "53b36df67ebb7c41585e8d54d6772e08    37683.42\n",
       "aca2eb7d00ea1a7b8ebd4e68314663af    37608.90\n",
       "e0d64dcfaa3b6db5c54ca298ae101d05    31786.82\n",
       "7a10781637204d8d10485c71a6108a2e    30395.00\n",
       "f1c7f353075ce59d8a6f3cf58f419c9c    29997.36\n",
       "Name: price_capped, dtype: float64"
      ]
     },
     "execution_count": 141,
     "metadata": {},
     "output_type": "execute_result"
    }
   ],
   "source": [
    "#Top 10 Products by Revenue\n",
    "top_products = orders_items_with_category.groupby('product_id')['price_capped'].sum().sort_values(ascending=False).head(10)\n",
    "top_products\n"
   ]
  },
  {
   "cell_type": "code",
   "execution_count": 142,
   "id": "7519fa3e-3030-470d-a349-3e1a85c08e38",
   "metadata": {},
   "outputs": [
    {
     "data": {
      "text/plain": [
       "product_category_name\n",
       "cama_mesa_banho           1000342.80\n",
       "beleza_saude               998586.52\n",
       "relogios_presentes         854412.53\n",
       "esporte_lazer              851779.40\n",
       "informatica_acessorios     780642.60\n",
       "moveis_decoracao           696465.24\n",
       "utilidades_domesticas      566463.28\n",
       "cool_stuff                 513599.94\n",
       "automotivo                 456976.66\n",
       "brinquedos                 421190.21\n",
       "Name: price_capped, dtype: float64"
      ]
     },
     "execution_count": 142,
     "metadata": {},
     "output_type": "execute_result"
    }
   ],
   "source": [
    "#Top 10 Categories by Revenue\n",
    "top_categories = orders_items_with_category.groupby('product_category_name')['price_capped'].sum().sort_values(ascending=False).head(10)\n",
    "top_categories\n"
   ]
  },
  {
   "cell_type": "code",
   "execution_count": 143,
   "id": "8b4caf93-73be-44c2-8c1d-ea9e57b52410",
   "metadata": {},
   "outputs": [
    {
     "data": {
      "text/plain": [
       "product_category_name\n",
       "artes_e_artesanato                               5.291667\n",
       "la_cuisine                                       7.071429\n",
       "livros_importados                                7.666667\n",
       "portateis_cozinha_e_preparadores_de_alimentos    7.785714\n",
       "fashion_roupa_infanto_juvenil                    8.142857\n",
       "pc_gamer                                         8.750000\n",
       "alimentos                                        8.793587\n",
       "artigos_de_festas                                8.904762\n",
       "construcao_ferramentas_iluminacao                9.245847\n",
       "portateis_casa_forno_e_cafe                      9.397260\n",
       "Name: delivery_time_days_capped, dtype: float64"
      ]
     },
     "execution_count": 143,
     "metadata": {},
     "output_type": "execute_result"
    }
   ],
   "source": [
    "#Top 10 Categories by Fastest Delivery\n",
    "fastest_categories = orders_items_with_category.groupby('product_category_name')['delivery_time_days_capped'].mean().sort_values().head(10)\n",
    "fastest_categories\n"
   ]
  },
  {
   "cell_type": "code",
   "execution_count": 148,
   "id": "fccec371-fcb7-43a8-ad21-a84732151f47",
   "metadata": {},
   "outputs": [
    {
     "data": {
      "text/plain": [
       "customer_id\n",
       "1ff773612ab8934db89fd5afa8afe506    2774.00\n",
       "1617b1357756262bfa56ab541c47bc16    2219.20\n",
       "be1b70680b9f9694d8c70f41fa3dc92b    2000.00\n",
       "bd5d39761aa56689a265d95d8d32b8be    1974.00\n",
       "e7d6802668de6e74d0d6c56565bf2a24    1879.90\n",
       "f7622098214b4634b7fe7eee269b5426    1664.40\n",
       "05455dfa7cd02f13d132aa7a6a9729c6    1664.40\n",
       "e91409937a0fd26a57310548858d1762    1664.40\n",
       "5c51fe11e0c3a016201653955c6090ee    1664.40\n",
       "0c792d32a3251b4f69dae8646dfbedbc    1559.92\n",
       "Name: price_capped, dtype: float64"
      ]
     },
     "execution_count": 148,
     "metadata": {},
     "output_type": "execute_result"
    }
   ],
   "source": [
    "#Top 10 Customers by Revenue\n",
    "top_customers = orders_items_with_category.groupby('customer_id')['price_capped'].sum().sort_values(ascending=False).head(10)\n",
    "top_customers\n",
    "\n"
   ]
  },
  {
   "cell_type": "code",
   "execution_count": 149,
   "id": "617033b2-99c4-4f0b-a685-9ebd76bb452f",
   "metadata": {},
   "outputs": [
    {
     "data": {
      "text/plain": [
       "product_category_name\n",
       "artes_e_artesanato                               5.291667\n",
       "la_cuisine                                       7.071429\n",
       "livros_importados                                7.666667\n",
       "portateis_cozinha_e_preparadores_de_alimentos    7.785714\n",
       "fashion_roupa_infanto_juvenil                    8.142857\n",
       "pc_gamer                                         8.750000\n",
       "alimentos                                        8.793587\n",
       "artigos_de_festas                                8.904762\n",
       "construcao_ferramentas_iluminacao                9.245847\n",
       "portateis_casa_forno_e_cafe                      9.397260\n",
       "Name: delivery_time_days_capped, dtype: float64"
      ]
     },
     "execution_count": 149,
     "metadata": {},
     "output_type": "execute_result"
    }
   ],
   "source": [
    "#Average delivery time by category\n",
    "avg_delivery_category = orders_items_with_category.groupby('product_category_name')['delivery_time_days_capped'].mean().sort_values()\n",
    "avg_delivery_category.head(10)\n"
   ]
  },
  {
   "cell_type": "markdown",
   "id": "dbaacd3c-2e88-4db5-8ebf-d273a35853f5",
   "metadata": {
    "jp-MarkdownHeadingCollapsed": true
   },
   "source": [
    "## Visualization"
   ]
  },
  {
   "cell_type": "code",
   "execution_count": 154,
   "id": "5ceab195-3358-49d5-b5ae-27ac954a11f0",
   "metadata": {},
   "outputs": [
    {
     "data": {
      "image/png": "[encoded data removed]",
      "text/plain": [
       "<Figure size 1200x600 with 1 Axes>"
      ]
     },
     "metadata": {},
     "output_type": "display_data"
    }
   ],
   "source": [
    "# Top 10 Products by Revenue\n",
    "plt.figure(figsize=(12,6))\n",
    "top_products = orders_items_with_category.groupby('product_id')['price_capped'].sum().sort_values(ascending=False).head(10)\n",
    "ax = sns.barplot(x=top_products.values, y=top_products.index, color=\"purple\")\n",
    "plt.title(\"Top 10 Products by Revenue\")\n",
    "plt.xlabel(\"Revenue\")\n",
    "plt.ylabel(\"Product ID\")\n",
    "for i, v in enumerate(top_products.values):\n",
    "    ax.text(v + 1000, i, f\"{v:,.2f}\", color='black', va='center')\n",
    "\n",
    "plt.show()"
   ]
  },
  {
   "cell_type": "code",
   "execution_count": 156,
   "id": "a844ea38-eb27-49cb-a222-cbffe5dfe2a8",
   "metadata": {},
   "outputs": [
    {
     "data": {
      "image/png": "[encoded data removed]",
      "text/plain": [
       "<Figure size 1200x600 with 1 Axes>"
      ]
     },
     "metadata": {},
     "output_type": "display_data"
    }
   ],
   "source": [
    "# Top 10 Product Categories by Revenue\n",
    "plt.figure(figsize=(12,6))\n",
    "top_categories = orders_items_with_category.groupby('product_category_name')['price_capped'].sum().sort_values(ascending=False).head(10)\n",
    "ax = sns.barplot(x=top_categories.values, y=top_categories.index, color=\"orange\")\n",
    "plt.title(\"Top 10 Product Categories by Revenue\")\n",
    "plt.xlabel(\"Revenue\")\n",
    "plt.ylabel(\"Product Category\")\n",
    "\n",
    "for i, v in enumerate(top_categories.values):\n",
    "    ax.text(v + 5000, i, f\"{v:,.2f}\", color='black', va='center')\n",
    "\n",
    "plt.show()"
   ]
  },
  {
   "cell_type": "code",
   "execution_count": 157,
   "id": "604f0de3-225f-4667-8d52-4790b5b4066e",
   "metadata": {},
   "outputs": [
    {
     "data": {
      "image/png": "[encoded data removed]",
      "text/plain": [
       "<Figure size 1200x600 with 1 Axes>"
      ]
     },
     "metadata": {},
     "output_type": "display_data"
    }
   ],
   "source": [
    "\n",
    "# Average Delivery Time by Product Category (Top 10 fastest)\n",
    "plt.figure(figsize=(12,6))\n",
    "avg_delivery_category = orders_items_with_category.groupby('product_category_name')['delivery_time_days_capped'].mean().sort_values().head(10)\n",
    "ax = sns.barplot(x=avg_delivery_category.values, y=avg_delivery_category.index, color=\"teal\")\n",
    "plt.title(\"Top 10 Product Categories by Fastest Average Delivery Time\")\n",
    "plt.xlabel(\"Average Delivery Time (days)\")\n",
    "plt.ylabel(\"Product Category\")\n",
    "\n",
    "for i, v in enumerate(avg_delivery_category.values):\n",
    "    ax.text(v + 0.1, i, f\"{v:.2f}\", color='black', va='center')\n",
    "\n",
    "plt.show()\n"
   ]
  },
  {
   "cell_type": "code",
   "execution_count": 158,
   "id": "2e3f76e6-d4cc-432e-bd9e-7e3e0678edb8",
   "metadata": {},
   "outputs": [
    {
     "data": {
      "image/png": "[encoded data removed]",
      "text/plain": [
       "<Figure size 1000x500 with 1 Axes>"
      ]
     },
     "metadata": {},
     "output_type": "display_data"
    }
   ],
   "source": [
    "\n",
    "# Total Revenue per Order Status\n",
    "plt.figure(figsize=(10,5))\n",
    "revenue_status = orders_items_with_category.groupby('order_status')['price_capped'].sum().sort_values(ascending=False)\n",
    "ax = sns.barplot(x=revenue_status.index, y=revenue_status.values, color=\"green\")\n",
    "plt.title(\"Total Revenue per Order Status\")\n",
    "plt.xlabel(\"Order Status\")\n",
    "plt.ylabel(\"Revenue\")\n",
    "plt.xticks(rotation=45)\n",
    "\n",
    "for i, v in enumerate(revenue_status.values):\n",
    "    ax.text(i, v + 10000, f\"{v:,.2f}\", color='black', ha='center')\n",
    "\n",
    "plt.show()"
   ]
  },
  {
   "cell_type": "markdown",
   "id": "4643ddcd-17af-4675-b17f-3043f5d8b06e",
   "metadata": {
    "jp-MarkdownHeadingCollapsed": true
   },
   "source": [
    "## Advanced Analysis"
   ]
  },
  {
   "cell_type": "code",
   "execution_count": 159,
   "id": "edba1bc3-d481-4d93-b5c9-d45aeff4d85a",
   "metadata": {},
   "outputs": [],
   "source": [
    "#Correlation between Delivery Time and Revenue\n",
    "# Aggregate revenue and delivery time by category\n",
    "category_stats = orders_items_with_category.groupby('product_category_name').agg({\n",
    "    'price_capped': 'sum',\n",
    "    'delivery_time_days_capped': 'mean'\n",
    "}).reset_index()\n"
   ]
  },
  {
   "cell_type": "code",
   "execution_count": 160,
   "id": "e0107376-519f-42b3-a7af-a8c0a452ce56",
   "metadata": {},
   "outputs": [
    {
     "name": "stdout",
     "output_type": "stream",
     "text": [
      "Correlation between revenue and delivery time: 0.1647272426257801\n"
     ]
    }
   ],
   "source": [
    "# Correlation\n",
    "correlation = category_stats['price_capped'].corr(category_stats['delivery_time_days_capped'])\n",
    "print(\"Correlation between revenue and delivery time:\", correlation)"
   ]
  },
  {
   "cell_type": "code",
   "execution_count": 161,
   "id": "8fc688a4-d9d8-4599-bb2d-791674134f7d",
   "metadata": {},
   "outputs": [
    {
     "data": {
      "image/png": "[encoded data removed]",
      "text/plain": [
       "<Figure size 1000x600 with 1 Axes>"
      ]
     },
     "metadata": {},
     "output_type": "display_data"
    }
   ],
   "source": [
    "plt.figure(figsize=(10,6))\n",
    "sns.scatterplot(data=category_stats, x='delivery_time_days_capped', y='price_capped', hue='price_capped', palette='viridis', s=100)\n",
    "plt.title(\"Revenue vs Average Delivery Time per Category\")\n",
    "plt.xlabel(\"Average Delivery Time (days)\")\n",
    "plt.ylabel(\"Total Revenue (capped)\")\n",
    "plt.show()"
   ]
  },
  {
   "cell_type": "code",
   "execution_count": 164,
   "id": "082ab77b-61b0-464c-b023-c7a4d831faa4",
   "metadata": {},
   "outputs": [
    {
     "data": {
      "image/png": "[encoded data removed]",
      "text/plain": [
       "<Figure size 1200x800 with 1 Axes>"
      ]
     },
     "metadata": {},
     "output_type": "display_data"
    }
   ],
   "source": [
    "#average delivery time vs total revenue per category\n",
    "# Aggregate revenue and average delivery time per category\n",
    "category_stats = orders_items_with_category.groupby('product_category_name').agg({\n",
    "    'price_capped': 'sum',\n",
    "    'delivery_time_days_capped': 'mean'\n",
    "}).reset_index()\n",
    "\n",
    "# Sort by revenue\n",
    "category_stats = category_stats.sort_values('price_capped', ascending=False)\n",
    "\n",
    "# Plot without labels\n",
    "plt.figure(figsize=(12,8))\n",
    "sns.scatterplot(\n",
    "    x='delivery_time_days_capped',\n",
    "    y=np.log10(category_stats['price_capped']),  # log scale\n",
    "    data=category_stats,\n",
    "    s=150,\n",
    "    color='teal'\n",
    ")\n",
    "\n",
    "plt.title('Total Revenue (log scale) vs Average Delivery Time per Category', fontsize=16)\n",
    "plt.xlabel('Average Delivery Time (days)', fontsize=12)\n",
    "plt.ylabel('Log10(Total Revenue)', fontsize=12)\n",
    "plt.grid(True)\n",
    "plt.show()"
   ]
  },
  {
   "cell_type": "code",
   "execution_count": 165,
   "id": "e7f5b54c-3684-46f9-a412-c978eb227463",
   "metadata": {},
   "outputs": [
    {
     "data": {
      "text/plain": [
       "month_year\n",
       "2016-09       267.36\n",
       "2016-10     39037.28\n",
       "2016-12        10.90\n",
       "2017-01     93749.35\n",
       "2017-02    190789.06\n",
       "Freq: M, Name: price_capped, dtype: float64"
      ]
     },
     "execution_count": 165,
     "metadata": {},
     "output_type": "execute_result"
    }
   ],
   "source": [
    "#Trends Over Time\n",
    "# Convert order_purchase_timestamp to datetime\n",
    "orders['order_purchase_timestamp'] = pd.to_datetime(orders['order_purchase_timestamp'])\n",
    "\n",
    "# Extract month-year\n",
    "orders['month_year'] = orders['order_purchase_timestamp'].dt.to_period('M')\n",
    "\n",
    "# Merge revenue info to orders\n",
    "orders_revenue = order_items.groupby('order_id')['price_capped'].sum().reset_index()\n",
    "orders_monthly = orders.merge(orders_revenue, on='order_id', how='left')\n",
    "monthly_revenue = orders_monthly.groupby('month_year')['price_capped'].sum()\n",
    "\n",
    "monthly_revenue.head()\n"
   ]
  },
  {
   "cell_type": "code",
   "execution_count": 167,
   "id": "728d173e-c7ee-4fbf-884d-5a685da5e298",
   "metadata": {},
   "outputs": [
    {
     "data": {
      "text/plain": [
       "seller_id\n",
       "4869f7a5dfa277a7dca6462dcf3b52b2    204645.75\n",
       "4a3ca9315b744ce9f8e9374361493884    196801.92\n",
       "7c67e1448b00f6e969d365cea6b010ab    187439.56\n",
       "da8622b14eb17ae2831f4ac5b9dab84a    158966.57\n",
       "7a67c85e85bb2ce8582c35f2203ad736    141745.53\n",
       "1025f0e2d44d7041d6cf58b6550e0bfa    136477.65\n",
       "fa1c13f2614d7b5c4749cbc52fecda94    129047.53\n",
       "955fee9216a65b617aa5c0531780ce60    125738.00\n",
       "6560211a19b47992c3666cc44a7e94c0    123304.83\n",
       "620c87c171fb2a6dd6e8bb4dec959fc6    107895.00\n",
       "Name: price_capped, dtype: float64"
      ]
     },
     "execution_count": 167,
     "metadata": {},
     "output_type": "execute_result"
    }
   ],
   "source": [
    "#Revenue by Seller\n",
    "top_sellers = orders_items_merged.groupby('seller_id')['price_capped'].sum().sort_values(ascending=False).head(10)\n",
    "top_sellers\n"
   ]
  },
  {
   "cell_type": "code",
   "execution_count": 168,
   "id": "12c22bab-c49b-4037-9e2d-b42d3c8995fe",
   "metadata": {},
   "outputs": [
    {
     "name": "stderr",
     "output_type": "stream",
     "text": [
      "C:\\Users\\Admin\\AppData\\Local\\Temp\\ipykernel_9960\\2316575266.py:2: DeprecationWarning: DataFrameGroupBy.apply operated on the grouping columns. This behavior is deprecated, and in a future version of pandas the grouping columns will be excluded from the operation. Either pass `include_groups=False` to exclude the groupings or explicitly select the grouping columns after groupby to silence this warning.\n",
      "  category_corr = orders_items_with_category.groupby('product_category_name').apply(\n"
     ]
    },
    {
     "data": {
      "text/plain": [
       "product_category_name\n",
       "seguros_e_servicos             1.000000\n",
       "fashion_roupa_feminina         0.469719\n",
       "artigos_de_festas              0.366561\n",
       "portateis_casa_forno_e_cafe    0.298938\n",
       "agro_industria_e_comercio      0.290064\n",
       "audio                          0.254240\n",
       "artigos_de_natal               0.238327\n",
       "fashion_calcados               0.228288\n",
       "casa_construcao                0.208479\n",
       "telefonia_fixa                 0.207456\n",
       "dtype: float64"
      ]
     },
     "execution_count": 168,
     "metadata": {},
     "output_type": "execute_result"
    }
   ],
   "source": [
    "#Revenue vs Delivery Time Analysis\n",
    "category_corr = orders_items_with_category.groupby('product_category_name').apply(\n",
    "    lambda x: x['price_capped'].corr(x['delivery_time_days_capped'])\n",
    ").sort_values(ascending=False)\n",
    "\n",
    "category_corr.head(10)\n"
   ]
  },
  {
   "cell_type": "code",
   "execution_count": 169,
   "id": "b0f615ca-9470-452b-b154-cc033293ff98",
   "metadata": {},
   "outputs": [
    {
     "data": {
      "text/plain": [
       "price_capped\n",
       "Low       33167\n",
       "Medium    32845\n",
       "High      32654\n",
       "Name: count, dtype: int64"
      ]
     },
     "execution_count": 169,
     "metadata": {},
     "output_type": "execute_result"
    }
   ],
   "source": [
    "#Customer Segmentation by Revenue\n",
    "top_customers = orders_items_with_category.groupby('customer_id')['price_capped'].sum()\n",
    "customer_segments = pd.qcut(top_customers, 3, labels=['Low', 'Medium', 'High'])\n",
    "customer_segments.value_counts()\n"
   ]
  },
  {
   "cell_type": "code",
   "execution_count": 170,
   "id": "2205d25f-0696-4f32-a211-96781ad260b6",
   "metadata": {},
   "outputs": [
    {
     "data": {
      "text/html": [
       "<div>\n",
       "<style scoped>\n",
       "    .dataframe tbody tr th:only-of-type {\n",
       "        vertical-align: middle;\n",
       "    }\n",
       "\n",
       "    .dataframe tbody tr th {\n",
       "        vertical-align: top;\n",
       "    }\n",
       "\n",
       "    .dataframe thead th {\n",
       "        text-align: right;\n",
       "    }\n",
       "</style>\n",
       "<table border=\"1\" class=\"dataframe\">\n",
       "  <thead>\n",
       "    <tr style=\"text-align: right;\">\n",
       "      <th></th>\n",
       "      <th>price_capped</th>\n",
       "      <th>delivery_time_days_capped</th>\n",
       "    </tr>\n",
       "    <tr>\n",
       "      <th>product_category_name</th>\n",
       "      <th></th>\n",
       "      <th></th>\n",
       "    </tr>\n",
       "  </thead>\n",
       "  <tbody>\n",
       "    <tr>\n",
       "      <th>cama_mesa_banho</th>\n",
       "      <td>1000342.80</td>\n",
       "      <td>12.287227</td>\n",
       "    </tr>\n",
       "    <tr>\n",
       "      <th>beleza_saude</th>\n",
       "      <td>998586.52</td>\n",
       "      <td>11.471216</td>\n",
       "    </tr>\n",
       "    <tr>\n",
       "      <th>relogios_presentes</th>\n",
       "      <td>854412.53</td>\n",
       "      <td>12.124637</td>\n",
       "    </tr>\n",
       "    <tr>\n",
       "      <th>esporte_lazer</th>\n",
       "      <td>851779.40</td>\n",
       "      <td>11.626142</td>\n",
       "    </tr>\n",
       "    <tr>\n",
       "      <th>informatica_acessorios</th>\n",
       "      <td>780642.60</td>\n",
       "      <td>12.704043</td>\n",
       "    </tr>\n",
       "    <tr>\n",
       "      <th>moveis_decoracao</th>\n",
       "      <td>696465.24</td>\n",
       "      <td>12.287010</td>\n",
       "    </tr>\n",
       "    <tr>\n",
       "      <th>utilidades_domesticas</th>\n",
       "      <td>566463.28</td>\n",
       "      <td>10.377925</td>\n",
       "    </tr>\n",
       "    <tr>\n",
       "      <th>cool_stuff</th>\n",
       "      <td>513599.94</td>\n",
       "      <td>11.787251</td>\n",
       "    </tr>\n",
       "    <tr>\n",
       "      <th>automotivo</th>\n",
       "      <td>456976.66</td>\n",
       "      <td>11.596038</td>\n",
       "    </tr>\n",
       "    <tr>\n",
       "      <th>brinquedos</th>\n",
       "      <td>421190.21</td>\n",
       "      <td>11.179156</td>\n",
       "    </tr>\n",
       "  </tbody>\n",
       "</table>\n",
       "</div>"
      ],
      "text/plain": [
       "                        price_capped  delivery_time_days_capped\n",
       "product_category_name                                          \n",
       "cama_mesa_banho           1000342.80                  12.287227\n",
       "beleza_saude               998586.52                  11.471216\n",
       "relogios_presentes         854412.53                  12.124637\n",
       "esporte_lazer              851779.40                  11.626142\n",
       "informatica_acessorios     780642.60                  12.704043\n",
       "moveis_decoracao           696465.24                  12.287010\n",
       "utilidades_domesticas      566463.28                  10.377925\n",
       "cool_stuff                 513599.94                  11.787251\n",
       "automotivo                 456976.66                  11.596038\n",
       "brinquedos                 421190.21                  11.179156"
      ]
     },
     "execution_count": 170,
     "metadata": {},
     "output_type": "execute_result"
    }
   ],
   "source": [
    "#Optional: Product Performance vs Delivery Time\n",
    "product_delivery = orders_items_with_category.groupby('product_category_name').agg({\n",
    "    'price_capped': 'sum',\n",
    "    'delivery_time_days_capped': 'mean'\n",
    "}).sort_values(by='price_capped', ascending=False)\n",
    "\n",
    "product_delivery.head(10)\n"
   ]
  },
  {
   "cell_type": "markdown",
   "id": "c5501e5f-b6d8-4a7a-94c9-a0cb728691e5",
   "metadata": {
    "jp-MarkdownHeadingCollapsed": true
   },
   "source": [
    "## Summary"
   ]
  },
  {
   "cell_type": "code",
   "execution_count": null,
   "id": "34718d49-606e-40bd-9995-4ad85bb2b4f4",
   "metadata": {},
   "outputs": [],
   "source": [
    "1- Monthly Revenue Trends\n",
    "\n",
    "Shows growth over time with peaks in certain months.\n",
    "\n",
    "Example: February 2017: 190,789.06 – highest early-month revenue.\n",
    "\n",
    "Early months like September 2016 are very low (267.36), likely due to few orders\n",
    "\n",
    "2-Top Sellers by Revenue\n",
    "\n",
    "Seller 4869f7a5dfa277a7dca6462dcf3b52b2: 204,645.75 – highest revenue.\n",
    "\n",
    "Top 10 sellers range from ~107k to 204k.\n",
    "\n",
    "These are your key revenue-generating sellers.\n",
    "\n",
    "3-Revenue vs Delivery Time Correlation by Category\n",
    "\n",
    "Correlation is generally low but positive, meaning longer delivery slightly associates with higher revenue in some categories.\n",
    "\n",
    "Highest correlation: seguros_e_servicos = 1.0 (maybe only a single product, check outliers).\n",
    "\n",
    "Other notable correlations: fashion_roupa_feminina 0.47, artigos_de_festas 0.37.\n",
    "\n",
    "️4-Customer Segmentation by Revenue\n",
    "\n",
    "Customers split almost evenly: Low (33,167), Medium (32,845), High (32,654).\n",
    "\n",
    "Useful for marketing: focus on high-value customers for retention campaigns.\n",
    "\n",
    "5-Product Category Performance vs Delivery Time\n",
    "Product Category\tRevenue\tAvg Delivery Days\n",
    "cama_mesa_banho\t1,000,342.80\t12.29\n",
    "beleza_saude\t998,586.52\t11.47\n",
    "relogios_presentes\t854,412.53\t12.12\n",
    "esporte_lazer\t851,779.40\t11.63\n",
    "informatica_acessorios\t780,642.60\t12.70\n",
    "moveis_decoracao\t696,465.24\t12.29\n",
    "utilidades_domesticas\t566,463.28\t10.38\n",
    "cool_stuff\t513,599.94\t11.79\n",
    "automotivo\t456,976.66\t11.60\n",
    "brinquedos\t421,190.21\t11.18\n",
    "\n",
    "High revenue categories: cama_mesa_banho, beleza_saude, relogios_presentes.\n",
    "\n",
    "Shortest average delivery: utilidades_domesticas 10.38 days.\n",
    "\n",
    "Longest average delivery: informatica_acessorios 12.7 days.\n",
    "\n",
    "This table can help identify potential operational improvements: categories with long delivery and high revenue should be optimized for faster shipping."
   ]
  },
  {
   "cell_type": "markdown",
   "id": "1e9f8bc4-899c-4436-8afc-4b0153044935",
   "metadata": {},
   "source": [
    "## Export Data"
   ]
  },
  {
   "cell_type": "code",
   "execution_count": 179,
   "id": "6f140fb5-122e-4d3d-850b-9aa569e142e1",
   "metadata": {},
   "outputs": [
    {
     "name": "stdout",
     "output_type": "stream",
     "text": [
      "DataFrame shape: (112650, 13)\n",
      "First 5 columns: ['order_id', 'order_item_id', 'product_id', 'seller_id', 'shipping_limit_date']\n",
      "Last 5 columns: ['freight_capped', 'customer_id', 'order_status', 'delivery_time_days_capped', 'product_category_name']\n",
      "Preview (top 3 rows):\n"
     ]
    },
    {
     "data": {
      "text/html": [
       "<div>\n",
       "<style scoped>\n",
       "    .dataframe tbody tr th:only-of-type {\n",
       "        vertical-align: middle;\n",
       "    }\n",
       "\n",
       "    .dataframe tbody tr th {\n",
       "        vertical-align: top;\n",
       "    }\n",
       "\n",
       "    .dataframe thead th {\n",
       "        text-align: right;\n",
       "    }\n",
       "</style>\n",
       "<table border=\"1\" class=\"dataframe\">\n",
       "  <thead>\n",
       "    <tr style=\"text-align: right;\">\n",
       "      <th></th>\n",
       "      <th>order_id</th>\n",
       "      <th>order_item_id</th>\n",
       "      <th>product_id</th>\n",
       "      <th>seller_id</th>\n",
       "      <th>shipping_limit_date</th>\n",
       "      <th>price</th>\n",
       "      <th>freight_value</th>\n",
       "      <th>price_capped</th>\n",
       "      <th>freight_capped</th>\n",
       "      <th>customer_id</th>\n",
       "      <th>order_status</th>\n",
       "      <th>delivery_time_days_capped</th>\n",
       "      <th>product_category_name</th>\n",
       "    </tr>\n",
       "  </thead>\n",
       "  <tbody>\n",
       "    <tr>\n",
       "      <th>0</th>\n",
       "      <td>00010242fe8c5a6d1ba2dd792cb16214</td>\n",
       "      <td>1</td>\n",
       "      <td>4244733e06e7ecb4970a6e2683c13e61</td>\n",
       "      <td>48436dade18ac8b2bce089ec2a041202</td>\n",
       "      <td>2017-09-19 09:45:35</td>\n",
       "      <td>58.9</td>\n",
       "      <td>13.29</td>\n",
       "      <td>58.9</td>\n",
       "      <td>13.29</td>\n",
       "      <td>3ce436f183e68e07877b285a838db11a</td>\n",
       "      <td>delivered</td>\n",
       "      <td>7.0</td>\n",
       "      <td>cool_stuff</td>\n",
       "    </tr>\n",
       "    <tr>\n",
       "      <th>1</th>\n",
       "      <td>00018f77f2f0320c557190d7a144bdd3</td>\n",
       "      <td>1</td>\n",
       "      <td>e5f2d52b802189ee658865ca93d83a8f</td>\n",
       "      <td>dd7ddc04e1b6c2c614352b383efe2d36</td>\n",
       "      <td>2017-05-03 11:05:13</td>\n",
       "      <td>239.9</td>\n",
       "      <td>19.93</td>\n",
       "      <td>239.9</td>\n",
       "      <td>19.93</td>\n",
       "      <td>f6dd3ec061db4e3987629fe6b26e5cce</td>\n",
       "      <td>delivered</td>\n",
       "      <td>16.0</td>\n",
       "      <td>pet_shop</td>\n",
       "    </tr>\n",
       "    <tr>\n",
       "      <th>2</th>\n",
       "      <td>000229ec398224ef6ca0657da4fc703e</td>\n",
       "      <td>1</td>\n",
       "      <td>c777355d18b72b67abbeef9df44fd0fd</td>\n",
       "      <td>5b51032eddd242adc84c38acab88f23d</td>\n",
       "      <td>2018-01-18 14:48:30</td>\n",
       "      <td>199.0</td>\n",
       "      <td>17.87</td>\n",
       "      <td>199.0</td>\n",
       "      <td>17.87</td>\n",
       "      <td>6489ae5e4333f3693df5ad4372dab6d3</td>\n",
       "      <td>delivered</td>\n",
       "      <td>7.0</td>\n",
       "      <td>moveis_decoracao</td>\n",
       "    </tr>\n",
       "  </tbody>\n",
       "</table>\n",
       "</div>"
      ],
      "text/plain": [
       "                           order_id  order_item_id  \\\n",
       "0  00010242fe8c5a6d1ba2dd792cb16214              1   \n",
       "1  00018f77f2f0320c557190d7a144bdd3              1   \n",
       "2  000229ec398224ef6ca0657da4fc703e              1   \n",
       "\n",
       "                         product_id                         seller_id  \\\n",
       "0  4244733e06e7ecb4970a6e2683c13e61  48436dade18ac8b2bce089ec2a041202   \n",
       "1  e5f2d52b802189ee658865ca93d83a8f  dd7ddc04e1b6c2c614352b383efe2d36   \n",
       "2  c777355d18b72b67abbeef9df44fd0fd  5b51032eddd242adc84c38acab88f23d   \n",
       "\n",
       "  shipping_limit_date  price  freight_value  price_capped  freight_capped  \\\n",
       "0 2017-09-19 09:45:35   58.9          13.29          58.9           13.29   \n",
       "1 2017-05-03 11:05:13  239.9          19.93         239.9           19.93   \n",
       "2 2018-01-18 14:48:30  199.0          17.87         199.0           17.87   \n",
       "\n",
       "                        customer_id order_status  delivery_time_days_capped  \\\n",
       "0  3ce436f183e68e07877b285a838db11a    delivered                        7.0   \n",
       "1  f6dd3ec061db4e3987629fe6b26e5cce    delivered                       16.0   \n",
       "2  6489ae5e4333f3693df5ad4372dab6d3    delivered                        7.0   \n",
       "\n",
       "  product_category_name  \n",
       "0            cool_stuff  \n",
       "1              pet_shop  \n",
       "2      moveis_decoracao  "
      ]
     },
     "metadata": {},
     "output_type": "display_data"
    },
    {
     "name": "stdout",
     "output_type": "stream",
     "text": [
      "\n",
      "✅ Excel export succeeded: powerbi_exports\\final_ecommerce_dataset.xlsx\n",
      "\n",
      "If Excel export failed due to missing 'openpyxl', install it with:\n",
      "    pip install openpyxl\n",
      "Then re-run this cell.\n"
     ]
    }
   ],
   "source": [
    "# Export orders_items_with_category to Excel (robust)\n",
    "import os\n",
    "import pandas as pd\n",
    "import traceback\n",
    "\n",
    "output_dir = \"powerbi_exports\"\n",
    "output_file = os.path.join(output_dir, \"final_ecommerce_dataset.xlsx\")\n",
    "fallback_csv = os.path.join(output_dir, \"final_ecommerce_dataset.csv\")\n",
    "\n",
    "# 1) Check dataframe exists\n",
    "if 'orders_items_with_category' not in globals() and 'orders_items_with_category' not in locals():\n",
    "    raise NameError(\"DataFrame 'orders_items_with_category' not found in the notebook. Make sure you created it.\")\n",
    "\n",
    "df = orders_items_with_category  # alias\n",
    "\n",
    "# 2) Quick verification\n",
    "print(\"DataFrame shape:\", df.shape)\n",
    "print(\"First 5 columns:\", df.columns.tolist()[:5])\n",
    "print(\"Last 5 columns:\", df.columns.tolist()[-5:])\n",
    "print(\"Preview (top 3 rows):\")\n",
    "display(df.head(3))\n",
    "\n",
    "# 3) Ensure output directory exists\n",
    "os.makedirs(output_dir, exist_ok=True)\n",
    "\n",
    "# 4) Try export to Excel using openpyxl\n",
    "try:\n",
    "    # If openpyxl not installed, this will raise an ImportError\n",
    "    with pd.ExcelWriter(output_file, engine='openpyxl') as writer:\n",
    "        # If file is large, you can write in chunks or only export selected sheets\n",
    "        df.to_excel(writer, sheet_name='merged_data', index=False)\n",
    "    print(f\"\\n Excel export succeeded: {output_file}\")\n",
    "except Exception as e:\n",
    "    print(\"\\n Excel export failed. Falling back to CSV export.\")\n",
    "    print(\"Exception summary:\", repr(e))\n",
    "    # print full traceback for debugging\n",
    "    traceback.print_exc()\n",
    "    try:\n",
    "        df.to_csv(fallback_csv, index=False)\n",
    "        print(f\"\\nCSV fallback export succeeded: {fallback_csv}\")\n",
    "    except Exception as e2:\n",
    "        print(\"\\nCSV fallback also failed.\")\n",
    "        traceback.print_exc()\n",
    "        raise RuntimeError(\"Both Excel and CSV exports failed. See traceback above.\") from e2\n",
    "\n",
    "# 5) Helpful tips if Excel fails due to missing package:\n",
    "print(\"\\nIf Excel export failed due to missing 'openpyxl', install it with:\")\n",
    "print(\"    pip install openpyxl\")\n",
    "print(\"Then re-run this cell.\")\n",
    "\n"
   ]
  },
  {
   "cell_type": "code",
   "execution_count": 180,
   "id": "73ca7de2-10e9-4525-9ca4-babc030bd604",
   "metadata": {},
   "outputs": [
    {
     "name": "stdout",
     "output_type": "stream",
     "text": [
      "C:\\Users\\Admin\\powerbi_exports\\final_ecommerce_dataset.xlsx\n"
     ]
    }
   ],
   "source": [
    "import os\n",
    "print(os.path.abspath(\"powerbi_exports/final_ecommerce_dataset.xlsx\"))\n"
   ]
  },
  {
   "cell_type": "code",
   "execution_count": null,
   "id": "5262574e-3ad1-48f5-a2bd-9323b72d5f64",
   "metadata": {},
   "outputs": [],
   "source": []
  }
 ],
 "metadata": {
  "kernelspec": {
   "display_name": "Python [conda env:base] *",
   "language": "python",
   "name": "conda-base-py"
  },
  "language_info": {
   "codemirror_mode": {
    "name": "ipython",
    "version": 3
   },
   "file_extension": ".py",
   "mimetype": "text/x-python",
   "name": "python",
   "nbconvert_exporter": "python",
   "pygments_lexer": "ipython3",
   "version": "3.13.5"
  }
 },
 "nbformat": 4,
 "nbformat_minor": 5
}
